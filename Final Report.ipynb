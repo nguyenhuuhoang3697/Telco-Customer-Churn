{
 "cells": [
  {
   "cell_type": "markdown",
   "id": "97de3a02",
   "metadata": {},
   "source": [
    "<h1> Tiền xử lí dữ liệu & Phân tích khai phá dữ liệu \n",
    "    (Data Pre-Processing and EDA)"
   ]
  },
  {
   "cell_type": "code",
   "execution_count": 1,
   "id": "2b82078f",
   "metadata": {},
   "outputs": [
    {
     "name": "stdout",
     "output_type": "stream",
     "text": [
      "Setup complete.\n"
     ]
    }
   ],
   "source": [
    "import pandas as pd\n",
    "import numpy as np\n",
    "pd.set_option('max_rows', 20)\n",
    "pd.options.display.max_rows = 50\n",
    "print(\"Setup complete.\")"
   ]
  },
  {
   "cell_type": "markdown",
   "id": "8347872f",
   "metadata": {},
   "source": [
    "<h2> Nhập dữ liệu (Import the dataset)"
   ]
  },
  {
   "cell_type": "code",
   "execution_count": 2,
   "id": "e2efc2d9",
   "metadata": {
    "scrolled": true
   },
   "outputs": [
    {
     "data": {
      "text/html": [
       "<div>\n",
       "<style scoped>\n",
       "    .dataframe tbody tr th:only-of-type {\n",
       "        vertical-align: middle;\n",
       "    }\n",
       "\n",
       "    .dataframe tbody tr th {\n",
       "        vertical-align: top;\n",
       "    }\n",
       "\n",
       "    .dataframe thead th {\n",
       "        text-align: right;\n",
       "    }\n",
       "</style>\n",
       "<table border=\"1\" class=\"dataframe\">\n",
       "  <thead>\n",
       "    <tr style=\"text-align: right;\">\n",
       "      <th></th>\n",
       "      <th>customerID</th>\n",
       "      <th>gender</th>\n",
       "      <th>SeniorCitizen</th>\n",
       "      <th>Partner</th>\n",
       "      <th>Dependents</th>\n",
       "      <th>tenure</th>\n",
       "      <th>PhoneService</th>\n",
       "      <th>MultipleLines</th>\n",
       "      <th>InternetService</th>\n",
       "      <th>OnlineSecurity</th>\n",
       "      <th>...</th>\n",
       "      <th>DeviceProtection</th>\n",
       "      <th>TechSupport</th>\n",
       "      <th>StreamingTV</th>\n",
       "      <th>StreamingMovies</th>\n",
       "      <th>Contract</th>\n",
       "      <th>PaperlessBilling</th>\n",
       "      <th>PaymentMethod</th>\n",
       "      <th>MonthlyCharges</th>\n",
       "      <th>TotalCharges</th>\n",
       "      <th>Churn</th>\n",
       "    </tr>\n",
       "  </thead>\n",
       "  <tbody>\n",
       "    <tr>\n",
       "      <th>0</th>\n",
       "      <td>7590-VHVEG</td>\n",
       "      <td>Female</td>\n",
       "      <td>0</td>\n",
       "      <td>Yes</td>\n",
       "      <td>No</td>\n",
       "      <td>1</td>\n",
       "      <td>No</td>\n",
       "      <td>No phone service</td>\n",
       "      <td>DSL</td>\n",
       "      <td>No</td>\n",
       "      <td>...</td>\n",
       "      <td>No</td>\n",
       "      <td>No</td>\n",
       "      <td>No</td>\n",
       "      <td>No</td>\n",
       "      <td>Month-to-month</td>\n",
       "      <td>Yes</td>\n",
       "      <td>Electronic check</td>\n",
       "      <td>29.85</td>\n",
       "      <td>29.85</td>\n",
       "      <td>No</td>\n",
       "    </tr>\n",
       "    <tr>\n",
       "      <th>1</th>\n",
       "      <td>5575-GNVDE</td>\n",
       "      <td>Male</td>\n",
       "      <td>0</td>\n",
       "      <td>No</td>\n",
       "      <td>No</td>\n",
       "      <td>34</td>\n",
       "      <td>Yes</td>\n",
       "      <td>No</td>\n",
       "      <td>DSL</td>\n",
       "      <td>Yes</td>\n",
       "      <td>...</td>\n",
       "      <td>Yes</td>\n",
       "      <td>No</td>\n",
       "      <td>No</td>\n",
       "      <td>No</td>\n",
       "      <td>One year</td>\n",
       "      <td>No</td>\n",
       "      <td>Mailed check</td>\n",
       "      <td>56.95</td>\n",
       "      <td>1889.5</td>\n",
       "      <td>No</td>\n",
       "    </tr>\n",
       "    <tr>\n",
       "      <th>2</th>\n",
       "      <td>3668-QPYBK</td>\n",
       "      <td>Male</td>\n",
       "      <td>0</td>\n",
       "      <td>No</td>\n",
       "      <td>No</td>\n",
       "      <td>2</td>\n",
       "      <td>Yes</td>\n",
       "      <td>No</td>\n",
       "      <td>DSL</td>\n",
       "      <td>Yes</td>\n",
       "      <td>...</td>\n",
       "      <td>No</td>\n",
       "      <td>No</td>\n",
       "      <td>No</td>\n",
       "      <td>No</td>\n",
       "      <td>Month-to-month</td>\n",
       "      <td>Yes</td>\n",
       "      <td>Mailed check</td>\n",
       "      <td>53.85</td>\n",
       "      <td>108.15</td>\n",
       "      <td>Yes</td>\n",
       "    </tr>\n",
       "    <tr>\n",
       "      <th>3</th>\n",
       "      <td>7795-CFOCW</td>\n",
       "      <td>Male</td>\n",
       "      <td>0</td>\n",
       "      <td>No</td>\n",
       "      <td>No</td>\n",
       "      <td>45</td>\n",
       "      <td>No</td>\n",
       "      <td>No phone service</td>\n",
       "      <td>DSL</td>\n",
       "      <td>Yes</td>\n",
       "      <td>...</td>\n",
       "      <td>Yes</td>\n",
       "      <td>Yes</td>\n",
       "      <td>No</td>\n",
       "      <td>No</td>\n",
       "      <td>One year</td>\n",
       "      <td>No</td>\n",
       "      <td>Bank transfer (automatic)</td>\n",
       "      <td>42.30</td>\n",
       "      <td>1840.75</td>\n",
       "      <td>No</td>\n",
       "    </tr>\n",
       "    <tr>\n",
       "      <th>4</th>\n",
       "      <td>9237-HQITU</td>\n",
       "      <td>Female</td>\n",
       "      <td>0</td>\n",
       "      <td>No</td>\n",
       "      <td>No</td>\n",
       "      <td>2</td>\n",
       "      <td>Yes</td>\n",
       "      <td>No</td>\n",
       "      <td>Fiber optic</td>\n",
       "      <td>No</td>\n",
       "      <td>...</td>\n",
       "      <td>No</td>\n",
       "      <td>No</td>\n",
       "      <td>No</td>\n",
       "      <td>No</td>\n",
       "      <td>Month-to-month</td>\n",
       "      <td>Yes</td>\n",
       "      <td>Electronic check</td>\n",
       "      <td>70.70</td>\n",
       "      <td>151.65</td>\n",
       "      <td>Yes</td>\n",
       "    </tr>\n",
       "    <tr>\n",
       "      <th>...</th>\n",
       "      <td>...</td>\n",
       "      <td>...</td>\n",
       "      <td>...</td>\n",
       "      <td>...</td>\n",
       "      <td>...</td>\n",
       "      <td>...</td>\n",
       "      <td>...</td>\n",
       "      <td>...</td>\n",
       "      <td>...</td>\n",
       "      <td>...</td>\n",
       "      <td>...</td>\n",
       "      <td>...</td>\n",
       "      <td>...</td>\n",
       "      <td>...</td>\n",
       "      <td>...</td>\n",
       "      <td>...</td>\n",
       "      <td>...</td>\n",
       "      <td>...</td>\n",
       "      <td>...</td>\n",
       "      <td>...</td>\n",
       "      <td>...</td>\n",
       "    </tr>\n",
       "    <tr>\n",
       "      <th>7038</th>\n",
       "      <td>6840-RESVB</td>\n",
       "      <td>Male</td>\n",
       "      <td>0</td>\n",
       "      <td>Yes</td>\n",
       "      <td>Yes</td>\n",
       "      <td>24</td>\n",
       "      <td>Yes</td>\n",
       "      <td>Yes</td>\n",
       "      <td>DSL</td>\n",
       "      <td>Yes</td>\n",
       "      <td>...</td>\n",
       "      <td>Yes</td>\n",
       "      <td>Yes</td>\n",
       "      <td>Yes</td>\n",
       "      <td>Yes</td>\n",
       "      <td>One year</td>\n",
       "      <td>Yes</td>\n",
       "      <td>Mailed check</td>\n",
       "      <td>84.80</td>\n",
       "      <td>1990.5</td>\n",
       "      <td>No</td>\n",
       "    </tr>\n",
       "    <tr>\n",
       "      <th>7039</th>\n",
       "      <td>2234-XADUH</td>\n",
       "      <td>Female</td>\n",
       "      <td>0</td>\n",
       "      <td>Yes</td>\n",
       "      <td>Yes</td>\n",
       "      <td>72</td>\n",
       "      <td>Yes</td>\n",
       "      <td>Yes</td>\n",
       "      <td>Fiber optic</td>\n",
       "      <td>No</td>\n",
       "      <td>...</td>\n",
       "      <td>Yes</td>\n",
       "      <td>No</td>\n",
       "      <td>Yes</td>\n",
       "      <td>Yes</td>\n",
       "      <td>One year</td>\n",
       "      <td>Yes</td>\n",
       "      <td>Credit card (automatic)</td>\n",
       "      <td>103.20</td>\n",
       "      <td>7362.9</td>\n",
       "      <td>No</td>\n",
       "    </tr>\n",
       "    <tr>\n",
       "      <th>7040</th>\n",
       "      <td>4801-JZAZL</td>\n",
       "      <td>Female</td>\n",
       "      <td>0</td>\n",
       "      <td>Yes</td>\n",
       "      <td>Yes</td>\n",
       "      <td>11</td>\n",
       "      <td>No</td>\n",
       "      <td>No phone service</td>\n",
       "      <td>DSL</td>\n",
       "      <td>Yes</td>\n",
       "      <td>...</td>\n",
       "      <td>No</td>\n",
       "      <td>No</td>\n",
       "      <td>No</td>\n",
       "      <td>No</td>\n",
       "      <td>Month-to-month</td>\n",
       "      <td>Yes</td>\n",
       "      <td>Electronic check</td>\n",
       "      <td>29.60</td>\n",
       "      <td>346.45</td>\n",
       "      <td>No</td>\n",
       "    </tr>\n",
       "    <tr>\n",
       "      <th>7041</th>\n",
       "      <td>8361-LTMKD</td>\n",
       "      <td>Male</td>\n",
       "      <td>1</td>\n",
       "      <td>Yes</td>\n",
       "      <td>No</td>\n",
       "      <td>4</td>\n",
       "      <td>Yes</td>\n",
       "      <td>Yes</td>\n",
       "      <td>Fiber optic</td>\n",
       "      <td>No</td>\n",
       "      <td>...</td>\n",
       "      <td>No</td>\n",
       "      <td>No</td>\n",
       "      <td>No</td>\n",
       "      <td>No</td>\n",
       "      <td>Month-to-month</td>\n",
       "      <td>Yes</td>\n",
       "      <td>Mailed check</td>\n",
       "      <td>74.40</td>\n",
       "      <td>306.6</td>\n",
       "      <td>Yes</td>\n",
       "    </tr>\n",
       "    <tr>\n",
       "      <th>7042</th>\n",
       "      <td>3186-AJIEK</td>\n",
       "      <td>Male</td>\n",
       "      <td>0</td>\n",
       "      <td>No</td>\n",
       "      <td>No</td>\n",
       "      <td>66</td>\n",
       "      <td>Yes</td>\n",
       "      <td>No</td>\n",
       "      <td>Fiber optic</td>\n",
       "      <td>Yes</td>\n",
       "      <td>...</td>\n",
       "      <td>Yes</td>\n",
       "      <td>Yes</td>\n",
       "      <td>Yes</td>\n",
       "      <td>Yes</td>\n",
       "      <td>Two year</td>\n",
       "      <td>Yes</td>\n",
       "      <td>Bank transfer (automatic)</td>\n",
       "      <td>105.65</td>\n",
       "      <td>6844.5</td>\n",
       "      <td>No</td>\n",
       "    </tr>\n",
       "  </tbody>\n",
       "</table>\n",
       "<p>7043 rows × 21 columns</p>\n",
       "</div>"
      ],
      "text/plain": [
       "      customerID  gender  SeniorCitizen Partner Dependents  tenure  \\\n",
       "0     7590-VHVEG  Female              0     Yes         No       1   \n",
       "1     5575-GNVDE    Male              0      No         No      34   \n",
       "2     3668-QPYBK    Male              0      No         No       2   \n",
       "3     7795-CFOCW    Male              0      No         No      45   \n",
       "4     9237-HQITU  Female              0      No         No       2   \n",
       "...          ...     ...            ...     ...        ...     ...   \n",
       "7038  6840-RESVB    Male              0     Yes        Yes      24   \n",
       "7039  2234-XADUH  Female              0     Yes        Yes      72   \n",
       "7040  4801-JZAZL  Female              0     Yes        Yes      11   \n",
       "7041  8361-LTMKD    Male              1     Yes         No       4   \n",
       "7042  3186-AJIEK    Male              0      No         No      66   \n",
       "\n",
       "     PhoneService     MultipleLines InternetService OnlineSecurity  ...  \\\n",
       "0              No  No phone service             DSL             No  ...   \n",
       "1             Yes                No             DSL            Yes  ...   \n",
       "2             Yes                No             DSL            Yes  ...   \n",
       "3              No  No phone service             DSL            Yes  ...   \n",
       "4             Yes                No     Fiber optic             No  ...   \n",
       "...           ...               ...             ...            ...  ...   \n",
       "7038          Yes               Yes             DSL            Yes  ...   \n",
       "7039          Yes               Yes     Fiber optic             No  ...   \n",
       "7040           No  No phone service             DSL            Yes  ...   \n",
       "7041          Yes               Yes     Fiber optic             No  ...   \n",
       "7042          Yes                No     Fiber optic            Yes  ...   \n",
       "\n",
       "     DeviceProtection TechSupport StreamingTV StreamingMovies        Contract  \\\n",
       "0                  No          No          No              No  Month-to-month   \n",
       "1                 Yes          No          No              No        One year   \n",
       "2                  No          No          No              No  Month-to-month   \n",
       "3                 Yes         Yes          No              No        One year   \n",
       "4                  No          No          No              No  Month-to-month   \n",
       "...               ...         ...         ...             ...             ...   \n",
       "7038              Yes         Yes         Yes             Yes        One year   \n",
       "7039              Yes          No         Yes             Yes        One year   \n",
       "7040               No          No          No              No  Month-to-month   \n",
       "7041               No          No          No              No  Month-to-month   \n",
       "7042              Yes         Yes         Yes             Yes        Two year   \n",
       "\n",
       "     PaperlessBilling              PaymentMethod MonthlyCharges  TotalCharges  \\\n",
       "0                 Yes           Electronic check          29.85         29.85   \n",
       "1                  No               Mailed check          56.95        1889.5   \n",
       "2                 Yes               Mailed check          53.85        108.15   \n",
       "3                  No  Bank transfer (automatic)          42.30       1840.75   \n",
       "4                 Yes           Electronic check          70.70        151.65   \n",
       "...               ...                        ...            ...           ...   \n",
       "7038              Yes               Mailed check          84.80        1990.5   \n",
       "7039              Yes    Credit card (automatic)         103.20        7362.9   \n",
       "7040              Yes           Electronic check          29.60        346.45   \n",
       "7041              Yes               Mailed check          74.40         306.6   \n",
       "7042              Yes  Bank transfer (automatic)         105.65        6844.5   \n",
       "\n",
       "     Churn  \n",
       "0       No  \n",
       "1       No  \n",
       "2      Yes  \n",
       "3       No  \n",
       "4      Yes  \n",
       "...    ...  \n",
       "7038    No  \n",
       "7039    No  \n",
       "7040    No  \n",
       "7041   Yes  \n",
       "7042    No  \n",
       "\n",
       "[7043 rows x 21 columns]"
      ]
     },
     "execution_count": 2,
     "metadata": {},
     "output_type": "execute_result"
    }
   ],
   "source": [
    "csv_file = \"https://raw.githubusercontent.com/trangmx/fdc104/main/datasets/tele_x/TeleX-Customer-Churn.csv\"\n",
    "data = pd.read_csv(csv_file)\n",
    "data"
   ]
  },
  {
   "cell_type": "markdown",
   "id": "8d6a77f7",
   "metadata": {},
   "source": [
    "Chúng tôi đánh giá trường 'customerID' không chứa nhiều giá trị có ích đối với phân tích. Vì vậy chúng tôi loại bỏ trường này ra khỏi bộ dữ liệu."
   ]
  },
  {
   "cell_type": "code",
   "execution_count": 3,
   "id": "1c2d88d8",
   "metadata": {},
   "outputs": [],
   "source": [
    "#Bỏ trường customerID\n",
    "data = data.drop('customerID',axis=1)"
   ]
  },
  {
   "cell_type": "markdown",
   "id": "23520f6f",
   "metadata": {},
   "source": [
    "<h2> Xử lí dữ liệu bị thiếu (Handle Missing Values)"
   ]
  },
  {
   "cell_type": "markdown",
   "id": "38eefb7b",
   "metadata": {},
   "source": [
    "Chúng tôi đã kiểm tra các trường bị thiếu dữ liệu trong dataset và số lượng Missing values của từng trường."
   ]
  },
  {
   "cell_type": "code",
   "execution_count": 4,
   "id": "831b6921",
   "metadata": {},
   "outputs": [
    {
     "name": "stdout",
     "output_type": "stream",
     "text": [
      "Missing columns:\n",
      " TotalCharges    11\n",
      "dtype: int64\n"
     ]
    }
   ],
   "source": [
    "data.replace(' ', np.nan, inplace = True)\n",
    "missing_values_count_by_column = data.isnull().sum()\n",
    "print('Missing columns:\\n', missing_values_count_by_column[missing_values_count_by_column > 0])"
   ]
  },
  {
   "cell_type": "markdown",
   "id": "665e40e3",
   "metadata": {},
   "source": [
    "Như vậy, trường TotalCharges là trường duy nhất chứa Missing values."
   ]
  },
  {
   "cell_type": "markdown",
   "id": "ab46b616",
   "metadata": {},
   "source": [
    "Trong quá trình tìm hiểu dataset, chúng tôi nhận thấy có mối quan hệ giữa 3 trường 'TotalCharges', 'tenure' và 'MonthlyCharges'. Trong đó, TotalCharges = tenure * MonthlyCharges. Đối với các quan sát chứa Missing values ở trường 'TotalCharges', các giá trị tương ứng tại trường 'tenure' bằng 0. Điều đó có nghĩa là: thời điểm thu thập dữ liệu là tháng đầu tiên khách hàng sử dụng dịch vụ của TeleX. Chúng tôi nhận định các quan sát này không mang nhiều ý nghĩa trong quá trình phân tích. Do đó, chúng tôi đã quyết định loại bỏ những quan sát này."
   ]
  },
  {
   "cell_type": "code",
   "execution_count": 5,
   "id": "6668a71f",
   "metadata": {},
   "outputs": [
    {
     "data": {
      "text/plain": [
       "0"
      ]
     },
     "execution_count": 5,
     "metadata": {},
     "output_type": "execute_result"
    }
   ],
   "source": [
    "# Xóa các giá trị Missing Values trong trường TotalCharges\n",
    "data.dropna(subset=[\"TotalCharges\"], axis=0, inplace=True)\n",
    "\n",
    "# Thay đổi định dạng cột từ categorical về dạng numerical\n",
    "data[\"TotalCharges\"] = data[\"TotalCharges\"].astype(float)\n",
    "\n",
    "# Kiểm tra kết quả\n",
    "data[\"TotalCharges\"].isna().sum()"
   ]
  },
  {
   "cell_type": "markdown",
   "id": "71c4154a",
   "metadata": {},
   "source": [
    "<h2> Trực quan hóa dữ liệu (Visualization)"
   ]
  },
  {
   "cell_type": "code",
   "execution_count": 6,
   "id": "7c702568",
   "metadata": {},
   "outputs": [
    {
     "name": "stdout",
     "output_type": "stream",
     "text": [
      "Visualize setup Complete\n"
     ]
    }
   ],
   "source": [
    "import matplotlib.pyplot as plt\n",
    "import seaborn as sns\n",
    "%matplotlib inline\n",
    "print(\"Visualize setup Complete\")"
   ]
  },
  {
   "cell_type": "markdown",
   "id": "851546ed",
   "metadata": {},
   "source": [
    "Chúng tôi đã visualize các trường trong bộ dữ liệu để đánh giá sơ bộ về sự phân bố giữa Churn Customer và Active Customer. Từ đó, chúng tôi đã rút ra một số insights về những biểu hiện của Churn Customer."
   ]
  },
  {
   "cell_type": "markdown",
   "id": "ec7458ba",
   "metadata": {},
   "source": [
    "Đối với từng kiểu data, chúng tôi sẽ visualize bằng các biểu đồ khác nhau. Do đó, chúng tôi đã sắp xếp các trường trong bộ dữ liệu vào 2 danh sách như sau:\n",
    "- List 1 - 'numerical_columns': Danh sách này chứa các trường có chứa kiểu dữ liệu dạng số (numerical)\n",
    "- List 2 - 'categorical_columns': Danh sách này chứa các trường có chứa kiểu dữ liệu dạng phân loại (categorical)"
   ]
  },
  {
   "cell_type": "code",
   "execution_count": 7,
   "id": "1d879476",
   "metadata": {},
   "outputs": [],
   "source": [
    "# Chuyển kiểu dữ liệu cho trường 'SeniorCitizen' sang dạng object\n",
    "data[\"SeniorCitizen\"] = data[\"SeniorCitizen\"].astype('object')\n",
    "\n",
    "#  Tạo 2 danh sách gồm: numerical_columns và categorical_columns\n",
    "numerical_columns = []\n",
    "categorical_columns = []\n",
    "for column in data.columns:\n",
    "    if data[column].dtype == 'O':\n",
    "        if column != 'Churn':\n",
    "            categorical_columns.append(column)\n",
    "    else:\n",
    "        numerical_columns.append(column)"
   ]
  },
  {
   "cell_type": "markdown",
   "id": "cd27a580",
   "metadata": {},
   "source": [
    "Chúng tôi đã chia bộ dữ liệu thành 2 lớp:\n",
    "- data_churn: đây là bộ dữ liệu chứa các quan sát là churn customer\n",
    "- data_active: đây là bộ dữ liệu chứa các quan sát là active customer"
   ]
  },
  {
   "cell_type": "code",
   "execution_count": 8,
   "id": "fa94024b",
   "metadata": {},
   "outputs": [],
   "source": [
    "data_churn = data[data['Churn'] == 'Yes']\n",
    "data_active = data[data['Churn'] == 'No']"
   ]
  },
  {
   "cell_type": "markdown",
   "id": "b46d4b1c",
   "metadata": {},
   "source": [
    "Chúng tôi  trực quan hóa tất cả các trường trong danh sách numerical_columns bằng biểu đồ KDE plots."
   ]
  },
  {
   "cell_type": "code",
   "execution_count": 9,
   "id": "da4223b2",
   "metadata": {},
   "outputs": [
    {
     "data": {
      "image/png": "[encoded data removed]",
      "text/plain": [
       "<Figure size 432x288 with 1 Axes>"
      ]
     },
     "metadata": {
      "needs_background": "light"
     },
     "output_type": "display_data"
    },
    {
     "data": {
      "image/png": "[encoded data removed]",
      "text/plain": [
       "<Figure size 432x288 with 1 Axes>"
      ]
     },
     "metadata": {
      "needs_background": "light"
     },
     "output_type": "display_data"
    },
    {
     "data": {
      "image/png": "[encoded data removed]",
      "text/plain": [
       "<Figure size 432x288 with 1 Axes>"
      ]
     },
     "metadata": {
      "needs_background": "light"
     },
     "output_type": "display_data"
    }
   ],
   "source": [
    "def KDEPlots(df1,df2,label1,label2,column):\n",
    "    plt.figure()\n",
    "    sns.kdeplot(data=df1,label=label1, shade=True)\n",
    "    sns.kdeplot(data=df2,label=label2,shade=True)\n",
    "    plt.legend()\n",
    "    plt.title(\"Distribution of \" +column)\n",
    "    return\n",
    "\n",
    "for column in numerical_columns:\n",
    "    KDEPlots(data_churn[column],data_active[column],'Churn','Active',column)"
   ]
  },
  {
   "cell_type": "markdown",
   "id": "aff0cea8",
   "metadata": {},
   "source": [
    "Dựa vào các biểu đồ phân bố trên, chúng tôi đã đưa ra 1 số insights về Churn Customer như sau:\n",
    "- Khoảng thời gian họ là khách hàng của Công ty càng ngắn thì họ càng có nguy cơ trở thành Churn Customer.\n",
    "- Chi phí hàng tháng của khách hàng càng lớn thì khách hàng đó càng có nguy cơ trở thành Churn Customer.\n",
    "- Tổng tất cả các chi phí khách hàng phải trả kể từ khi họ sử dụng dịch vụ của Công ty càng thấp thì họ càng có nguy cơ trở thành Churn Customer."
   ]
  },
  {
   "cell_type": "markdown",
   "id": "e822da12",
   "metadata": {},
   "source": [
    "Chúng tôi tiếp tục tạo hàm để visualize các trường dạng categorical bằng biểu đồ CountPlots."
   ]
  },
  {
   "cell_type": "code",
   "execution_count": 10,
   "id": "6afc5788",
   "metadata": {},
   "outputs": [
    {
     "data": {
      "image/png": "[encoded data removed]",
      "text/plain": [
       "<Figure size 720x288 with 1 Axes>"
      ]
     },
     "metadata": {
      "needs_background": "light"
     },
     "output_type": "display_data"
    },
    {
     "data": {
      "image/png": "[encoded data removed]",
      "text/plain": [
       "<Figure size 720x288 with 1 Axes>"
      ]
     },
     "metadata": {
      "needs_background": "light"
     },
     "output_type": "display_data"
    },
    {
     "data": {
      "image/png": "[encoded data removed]",
      "text/plain": [
       "<Figure size 720x288 with 1 Axes>"
      ]
     },
     "metadata": {
      "needs_background": "light"
     },
     "output_type": "display_data"
    },
    {
     "data": {
      "image/png": "[encoded data removed]",
      "text/plain": [
       "<Figure size 720x288 with 1 Axes>"
      ]
     },
     "metadata": {
      "needs_background": "light"
     },
     "output_type": "display_data"
    },
    {
     "data": {
      "image/png": "[encoded data removed]",
      "text/plain": [
       "<Figure size 720x288 with 1 Axes>"
      ]
     },
     "metadata": {
      "needs_background": "light"
     },
     "output_type": "display_data"
    },
    {
     "data": {
      "image/png": "[encoded data removed]",
      "text/plain": [
       "<Figure size 720x288 with 1 Axes>"
      ]
     },
     "metadata": {
      "needs_background": "light"
     },
     "output_type": "display_data"
    },
    {
     "data": {
      "image/png": "[encoded data removed]",
      "text/plain": [
       "<Figure size 720x288 with 1 Axes>"
      ]
     },
     "metadata": {
      "needs_background": "light"
     },
     "output_type": "display_data"
    },
    {
     "data": {
      "image/png": "[encoded data removed]",
      "text/plain": [
       "<Figure size 720x288 with 1 Axes>"
      ]
     },
     "metadata": {
      "needs_background": "light"
     },
     "output_type": "display_data"
    },
    {
     "data": {
      "image/png": "[encoded data removed]",
      "text/plain": [
       "<Figure size 720x288 with 1 Axes>"
      ]
     },
     "metadata": {
      "needs_background": "light"
     },
     "output_type": "display_data"
    },
    {
     "data": {
      "image/png": "[encoded data removed]",
      "text/plain": [
       "<Figure size 720x288 with 1 Axes>"
      ]
     },
     "metadata": {
      "needs_background": "light"
     },
     "output_type": "display_data"
    },
    {
     "data": {
      "image/png": "[encoded data removed]",
      "text/plain": [
       "<Figure size 720x288 with 1 Axes>"
      ]
     },
     "metadata": {
      "needs_background": "light"
     },
     "output_type": "display_data"
    },
    {
     "data": {
      "image/png": "[encoded data removed]",
      "text/plain": [
       "<Figure size 720x288 with 1 Axes>"
      ]
     },
     "metadata": {
      "needs_background": "light"
     },
     "output_type": "display_data"
    },
    {
     "data": {
      "image/png": "[encoded data removed]",
      "text/plain": [
       "<Figure size 720x288 with 1 Axes>"
      ]
     },
     "metadata": {
      "needs_background": "light"
     },
     "output_type": "display_data"
    },
    {
     "data": {
      "image/png": "[encoded data removed]",
      "text/plain": [
       "<Figure size 720x288 with 1 Axes>"
      ]
     },
     "metadata": {
      "needs_background": "light"
     },
     "output_type": "display_data"
    },
    {
     "data": {
      "image/png": "[encoded data removed]",
      "text/plain": [
       "<Figure size 720x288 with 1 Axes>"
      ]
     },
     "metadata": {
      "needs_background": "light"
     },
     "output_type": "display_data"
    },
    {
     "data": {
      "image/png": "[encoded data removed]",
      "text/plain": [
       "<Figure size 720x288 with 1 Axes>"
      ]
     },
     "metadata": {
      "needs_background": "light"
     },
     "output_type": "display_data"
    }
   ],
   "source": [
    "def DistPlot(df,hue,column):\n",
    "    plt.figure(figsize=(10,4))\n",
    "    plt.xticks(rotation=90)\n",
    "    sns.countplot(x=column, hue=hue,palette=\"coolwarm\", data=df)\n",
    "    plt.title(\"Distribution of \" +column)\n",
    "    plt.legend()\n",
    "    return\n",
    "\n",
    "for column in categorical_columns:\n",
    "    DistPlot(data,'Churn',column)"
   ]
  },
  {
   "cell_type": "markdown",
   "id": "89811dce",
   "metadata": {},
   "source": [
    "Dựa vào các biểu đồ phân bố trên, chúng tôi đã liệt kê một số dấu hiệu của Churn Customer như sau:\n",
    "- Khách hàng không thuộc nhóm người cao tuổi\n",
    "- Khách hàng độc thân hoặc sống một mình\n",
    "- Khách hàng sử dụng dịch vụ điện thoại (Phone Service)\n",
    "- Khách hàng thường sử dụng dịch vụ internet cáp quang (Fiber Optic Internet Service)\n",
    "- Khách hàng không sử dụng dịch vụ nâng cao an ninh mạng (Online Security), sao lưu dữ liệu (Online Backup), bảo vệ thiết bị điện tử (Device Protection) hoặc hỗ trợ kĩ thuật (Tech Support)\n",
    "- Khách hàng thường đăng kí dịch vụ theo tháng (Month-to-month)\n",
    "- Khách hàng thường lựa chọn thanh toán và nhận hóa đơn trực tuyến (Paperless billing)\n",
    "- Khách hàng sử dụng phương thức thanh toán điện tử (Electronic check)"
   ]
  },
  {
   "cell_type": "markdown",
   "id": "de35f6d9",
   "metadata": {},
   "source": [
    "<h2> Chuẩn hóa dữ liệu (Normalization)"
   ]
  },
  {
   "cell_type": "markdown",
   "id": "56d6b18a",
   "metadata": {},
   "source": [
    "Chúng tôi tiến hành normalize dữ liệu để chuẩn bị cho bước xây dựng mô hình. Đối với các trường dữ liệu thuộc dạng categorical, chúng tôi normalize bằng phương pháp Dummy variable. Đối với các trường dữ liệu thuộc dạng numerical, chúng tôi normalize bằng phương pháp Min-Max."
   ]
  },
  {
   "cell_type": "markdown",
   "id": "48d11c84",
   "metadata": {},
   "source": [
    "<h3> Phương pháp sử dụng biến giả (Dummy Variable)"
   ]
  },
  {
   "cell_type": "markdown",
   "id": "639ece37",
   "metadata": {},
   "source": [
    "Chúng tôi chia các trường categorical thành 2 lists:\n",
    "- List 1 - 'categorical_columns_1': Các trường trong list này chỉ chứa 2 giá trị (Yes/No)\n",
    "- List 2 - 'categorical_columns_2': Các trường trong list này có trên 2 giá trị"
   ]
  },
  {
   "cell_type": "code",
   "execution_count": 11,
   "id": "ed09b8d3",
   "metadata": {},
   "outputs": [],
   "source": [
    "categorical_columns_1 = []\n",
    "categorical_columns_2 = []\n",
    "for column in data.columns:\n",
    "    if (data[column].dtype == 'O') & (len(data[column].unique()) == 2):\n",
    "        categorical_columns_1.append(column)\n",
    "    if (data[column].dtype == 'O') & (len(data[column].unique()) > 2):\n",
    "        categorical_columns_2.append(column)"
   ]
  },
  {
   "cell_type": "code",
   "execution_count": 12,
   "id": "c40ff0d8",
   "metadata": {},
   "outputs": [],
   "source": [
    "# Chuẩn hóa dữ liệu bằng phương pháp sử dụng biến giả\n",
    "data = pd.get_dummies(data = data, columns = categorical_columns_1, drop_first = True, dtype = 'int64')\n",
    "data = pd.get_dummies(data = data, columns = categorical_columns_2, drop_first = False, dtype = 'int64')"
   ]
  },
  {
   "cell_type": "markdown",
   "id": "a453562d",
   "metadata": {},
   "source": [
    "<h3> Phương pháp Min-Max (Min-Max Normalization)"
   ]
  },
  {
   "cell_type": "markdown",
   "id": "611bc12c",
   "metadata": {},
   "source": [
    "Chúng tôi sẽ áp dụng phương pháp Min-Max để normalize 3 trường sau: 'tenure', 'MonthlyCharges', 'TotalCharges'."
   ]
  },
  {
   "cell_type": "code",
   "execution_count": 13,
   "id": "f27e1af8",
   "metadata": {},
   "outputs": [],
   "source": [
    "data['tenure'] = (data['tenure'] - data['tenure'].min()) / (data['tenure'].max() - data['tenure'].min())\n",
    "data['MonthlyCharges'] = (data['MonthlyCharges'] - data['MonthlyCharges'].min()) / (data['MonthlyCharges'].max() \n",
    "                                                                                    - data['MonthlyCharges'].min())\n",
    "data['TotalCharges'] = (data['TotalCharges'] - data['TotalCharges'].min()) / (data['TotalCharges'].max() \n",
    "                                                                              - data['TotalCharges'].min())"
   ]
  },
  {
   "cell_type": "code",
   "execution_count": 14,
   "id": "b2387c48",
   "metadata": {},
   "outputs": [
    {
     "data": {
      "text/html": [
       "<div>\n",
       "<style scoped>\n",
       "    .dataframe tbody tr th:only-of-type {\n",
       "        vertical-align: middle;\n",
       "    }\n",
       "\n",
       "    .dataframe tbody tr th {\n",
       "        vertical-align: top;\n",
       "    }\n",
       "\n",
       "    .dataframe thead th {\n",
       "        text-align: right;\n",
       "    }\n",
       "</style>\n",
       "<table border=\"1\" class=\"dataframe\">\n",
       "  <thead>\n",
       "    <tr style=\"text-align: right;\">\n",
       "      <th></th>\n",
       "      <th>tenure</th>\n",
       "      <th>MonthlyCharges</th>\n",
       "      <th>TotalCharges</th>\n",
       "      <th>gender_Male</th>\n",
       "      <th>SeniorCitizen_1</th>\n",
       "      <th>Partner_Yes</th>\n",
       "      <th>Dependents_Yes</th>\n",
       "      <th>PhoneService_Yes</th>\n",
       "      <th>PaperlessBilling_Yes</th>\n",
       "      <th>Churn_Yes</th>\n",
       "      <th>...</th>\n",
       "      <th>StreamingMovies_No</th>\n",
       "      <th>StreamingMovies_No internet service</th>\n",
       "      <th>StreamingMovies_Yes</th>\n",
       "      <th>Contract_Month-to-month</th>\n",
       "      <th>Contract_One year</th>\n",
       "      <th>Contract_Two year</th>\n",
       "      <th>PaymentMethod_Bank transfer (automatic)</th>\n",
       "      <th>PaymentMethod_Credit card (automatic)</th>\n",
       "      <th>PaymentMethod_Electronic check</th>\n",
       "      <th>PaymentMethod_Mailed check</th>\n",
       "    </tr>\n",
       "  </thead>\n",
       "  <tbody>\n",
       "    <tr>\n",
       "      <th>count</th>\n",
       "      <td>7032.000000</td>\n",
       "      <td>7032.000000</td>\n",
       "      <td>7032.000000</td>\n",
       "      <td>7032.000000</td>\n",
       "      <td>7032.000000</td>\n",
       "      <td>7032.000000</td>\n",
       "      <td>7032.000000</td>\n",
       "      <td>7032.000000</td>\n",
       "      <td>7032.000000</td>\n",
       "      <td>7032.000000</td>\n",
       "      <td>...</td>\n",
       "      <td>7032.000000</td>\n",
       "      <td>7032.000000</td>\n",
       "      <td>7032.000000</td>\n",
       "      <td>7032.000000</td>\n",
       "      <td>7032.000000</td>\n",
       "      <td>7032.000000</td>\n",
       "      <td>7032.000000</td>\n",
       "      <td>7032.000000</td>\n",
       "      <td>7032.000000</td>\n",
       "      <td>7032.000000</td>\n",
       "    </tr>\n",
       "    <tr>\n",
       "      <th>mean</th>\n",
       "      <td>0.442560</td>\n",
       "      <td>0.463166</td>\n",
       "      <td>0.261309</td>\n",
       "      <td>0.504693</td>\n",
       "      <td>0.162400</td>\n",
       "      <td>0.482509</td>\n",
       "      <td>0.298493</td>\n",
       "      <td>0.903299</td>\n",
       "      <td>0.592719</td>\n",
       "      <td>0.265785</td>\n",
       "      <td>...</td>\n",
       "      <td>0.395478</td>\n",
       "      <td>0.216155</td>\n",
       "      <td>0.388367</td>\n",
       "      <td>0.551052</td>\n",
       "      <td>0.209329</td>\n",
       "      <td>0.239619</td>\n",
       "      <td>0.219283</td>\n",
       "      <td>0.216297</td>\n",
       "      <td>0.336320</td>\n",
       "      <td>0.228100</td>\n",
       "    </tr>\n",
       "    <tr>\n",
       "      <th>std</th>\n",
       "      <td>0.345708</td>\n",
       "      <td>0.299363</td>\n",
       "      <td>0.261571</td>\n",
       "      <td>0.500014</td>\n",
       "      <td>0.368844</td>\n",
       "      <td>0.499729</td>\n",
       "      <td>0.457629</td>\n",
       "      <td>0.295571</td>\n",
       "      <td>0.491363</td>\n",
       "      <td>0.441782</td>\n",
       "      <td>...</td>\n",
       "      <td>0.488988</td>\n",
       "      <td>0.411650</td>\n",
       "      <td>0.487414</td>\n",
       "      <td>0.497422</td>\n",
       "      <td>0.406858</td>\n",
       "      <td>0.426881</td>\n",
       "      <td>0.413790</td>\n",
       "      <td>0.411748</td>\n",
       "      <td>0.472483</td>\n",
       "      <td>0.419637</td>\n",
       "    </tr>\n",
       "    <tr>\n",
       "      <th>min</th>\n",
       "      <td>0.000000</td>\n",
       "      <td>0.000000</td>\n",
       "      <td>0.000000</td>\n",
       "      <td>0.000000</td>\n",
       "      <td>0.000000</td>\n",
       "      <td>0.000000</td>\n",
       "      <td>0.000000</td>\n",
       "      <td>0.000000</td>\n",
       "      <td>0.000000</td>\n",
       "      <td>0.000000</td>\n",
       "      <td>...</td>\n",
       "      <td>0.000000</td>\n",
       "      <td>0.000000</td>\n",
       "      <td>0.000000</td>\n",
       "      <td>0.000000</td>\n",
       "      <td>0.000000</td>\n",
       "      <td>0.000000</td>\n",
       "      <td>0.000000</td>\n",
       "      <td>0.000000</td>\n",
       "      <td>0.000000</td>\n",
       "      <td>0.000000</td>\n",
       "    </tr>\n",
       "    <tr>\n",
       "      <th>25%</th>\n",
       "      <td>0.112676</td>\n",
       "      <td>0.172512</td>\n",
       "      <td>0.044155</td>\n",
       "      <td>0.000000</td>\n",
       "      <td>0.000000</td>\n",
       "      <td>0.000000</td>\n",
       "      <td>0.000000</td>\n",
       "      <td>1.000000</td>\n",
       "      <td>0.000000</td>\n",
       "      <td>0.000000</td>\n",
       "      <td>...</td>\n",
       "      <td>0.000000</td>\n",
       "      <td>0.000000</td>\n",
       "      <td>0.000000</td>\n",
       "      <td>0.000000</td>\n",
       "      <td>0.000000</td>\n",
       "      <td>0.000000</td>\n",
       "      <td>0.000000</td>\n",
       "      <td>0.000000</td>\n",
       "      <td>0.000000</td>\n",
       "      <td>0.000000</td>\n",
       "    </tr>\n",
       "    <tr>\n",
       "      <th>50%</th>\n",
       "      <td>0.394366</td>\n",
       "      <td>0.518408</td>\n",
       "      <td>0.159090</td>\n",
       "      <td>1.000000</td>\n",
       "      <td>0.000000</td>\n",
       "      <td>0.000000</td>\n",
       "      <td>0.000000</td>\n",
       "      <td>1.000000</td>\n",
       "      <td>1.000000</td>\n",
       "      <td>0.000000</td>\n",
       "      <td>...</td>\n",
       "      <td>0.000000</td>\n",
       "      <td>0.000000</td>\n",
       "      <td>0.000000</td>\n",
       "      <td>1.000000</td>\n",
       "      <td>0.000000</td>\n",
       "      <td>0.000000</td>\n",
       "      <td>0.000000</td>\n",
       "      <td>0.000000</td>\n",
       "      <td>0.000000</td>\n",
       "      <td>0.000000</td>\n",
       "    </tr>\n",
       "    <tr>\n",
       "      <th>75%</th>\n",
       "      <td>0.760563</td>\n",
       "      <td>0.712562</td>\n",
       "      <td>0.435719</td>\n",
       "      <td>1.000000</td>\n",
       "      <td>0.000000</td>\n",
       "      <td>1.000000</td>\n",
       "      <td>1.000000</td>\n",
       "      <td>1.000000</td>\n",
       "      <td>1.000000</td>\n",
       "      <td>1.000000</td>\n",
       "      <td>...</td>\n",
       "      <td>1.000000</td>\n",
       "      <td>0.000000</td>\n",
       "      <td>1.000000</td>\n",
       "      <td>1.000000</td>\n",
       "      <td>0.000000</td>\n",
       "      <td>0.000000</td>\n",
       "      <td>0.000000</td>\n",
       "      <td>0.000000</td>\n",
       "      <td>1.000000</td>\n",
       "      <td>0.000000</td>\n",
       "    </tr>\n",
       "    <tr>\n",
       "      <th>max</th>\n",
       "      <td>1.000000</td>\n",
       "      <td>1.000000</td>\n",
       "      <td>1.000000</td>\n",
       "      <td>1.000000</td>\n",
       "      <td>1.000000</td>\n",
       "      <td>1.000000</td>\n",
       "      <td>1.000000</td>\n",
       "      <td>1.000000</td>\n",
       "      <td>1.000000</td>\n",
       "      <td>1.000000</td>\n",
       "      <td>...</td>\n",
       "      <td>1.000000</td>\n",
       "      <td>1.000000</td>\n",
       "      <td>1.000000</td>\n",
       "      <td>1.000000</td>\n",
       "      <td>1.000000</td>\n",
       "      <td>1.000000</td>\n",
       "      <td>1.000000</td>\n",
       "      <td>1.000000</td>\n",
       "      <td>1.000000</td>\n",
       "      <td>1.000000</td>\n",
       "    </tr>\n",
       "  </tbody>\n",
       "</table>\n",
       "<p>8 rows × 41 columns</p>\n",
       "</div>"
      ],
      "text/plain": [
       "            tenure  MonthlyCharges  TotalCharges  gender_Male  \\\n",
       "count  7032.000000     7032.000000   7032.000000  7032.000000   \n",
       "mean      0.442560        0.463166      0.261309     0.504693   \n",
       "std       0.345708        0.299363      0.261571     0.500014   \n",
       "min       0.000000        0.000000      0.000000     0.000000   \n",
       "25%       0.112676        0.172512      0.044155     0.000000   \n",
       "50%       0.394366        0.518408      0.159090     1.000000   \n",
       "75%       0.760563        0.712562      0.435719     1.000000   \n",
       "max       1.000000        1.000000      1.000000     1.000000   \n",
       "\n",
       "       SeniorCitizen_1  Partner_Yes  Dependents_Yes  PhoneService_Yes  \\\n",
       "count      7032.000000  7032.000000     7032.000000       7032.000000   \n",
       "mean          0.162400     0.482509        0.298493          0.903299   \n",
       "std           0.368844     0.499729        0.457629          0.295571   \n",
       "min           0.000000     0.000000        0.000000          0.000000   \n",
       "25%           0.000000     0.000000        0.000000          1.000000   \n",
       "50%           0.000000     0.000000        0.000000          1.000000   \n",
       "75%           0.000000     1.000000        1.000000          1.000000   \n",
       "max           1.000000     1.000000        1.000000          1.000000   \n",
       "\n",
       "       PaperlessBilling_Yes    Churn_Yes  ...  StreamingMovies_No  \\\n",
       "count           7032.000000  7032.000000  ...         7032.000000   \n",
       "mean               0.592719     0.265785  ...            0.395478   \n",
       "std                0.491363     0.441782  ...            0.488988   \n",
       "min                0.000000     0.000000  ...            0.000000   \n",
       "25%                0.000000     0.000000  ...            0.000000   \n",
       "50%                1.000000     0.000000  ...            0.000000   \n",
       "75%                1.000000     1.000000  ...            1.000000   \n",
       "max                1.000000     1.000000  ...            1.000000   \n",
       "\n",
       "       StreamingMovies_No internet service  StreamingMovies_Yes  \\\n",
       "count                          7032.000000          7032.000000   \n",
       "mean                              0.216155             0.388367   \n",
       "std                               0.411650             0.487414   \n",
       "min                               0.000000             0.000000   \n",
       "25%                               0.000000             0.000000   \n",
       "50%                               0.000000             0.000000   \n",
       "75%                               0.000000             1.000000   \n",
       "max                               1.000000             1.000000   \n",
       "\n",
       "       Contract_Month-to-month  Contract_One year  Contract_Two year  \\\n",
       "count              7032.000000        7032.000000        7032.000000   \n",
       "mean                  0.551052           0.209329           0.239619   \n",
       "std                   0.497422           0.406858           0.426881   \n",
       "min                   0.000000           0.000000           0.000000   \n",
       "25%                   0.000000           0.000000           0.000000   \n",
       "50%                   1.000000           0.000000           0.000000   \n",
       "75%                   1.000000           0.000000           0.000000   \n",
       "max                   1.000000           1.000000           1.000000   \n",
       "\n",
       "       PaymentMethod_Bank transfer (automatic)  \\\n",
       "count                              7032.000000   \n",
       "mean                                  0.219283   \n",
       "std                                   0.413790   \n",
       "min                                   0.000000   \n",
       "25%                                   0.000000   \n",
       "50%                                   0.000000   \n",
       "75%                                   0.000000   \n",
       "max                                   1.000000   \n",
       "\n",
       "       PaymentMethod_Credit card (automatic)  PaymentMethod_Electronic check  \\\n",
       "count                            7032.000000                     7032.000000   \n",
       "mean                                0.216297                        0.336320   \n",
       "std                                 0.411748                        0.472483   \n",
       "min                                 0.000000                        0.000000   \n",
       "25%                                 0.000000                        0.000000   \n",
       "50%                                 0.000000                        0.000000   \n",
       "75%                                 0.000000                        1.000000   \n",
       "max                                 1.000000                        1.000000   \n",
       "\n",
       "       PaymentMethod_Mailed check  \n",
       "count                 7032.000000  \n",
       "mean                     0.228100  \n",
       "std                      0.419637  \n",
       "min                      0.000000  \n",
       "25%                      0.000000  \n",
       "50%                      0.000000  \n",
       "75%                      0.000000  \n",
       "max                      1.000000  \n",
       "\n",
       "[8 rows x 41 columns]"
      ]
     },
     "execution_count": 14,
     "metadata": {},
     "output_type": "execute_result"
    }
   ],
   "source": [
    "data.describe()"
   ]
  },
  {
   "cell_type": "markdown",
   "id": "91b03c05",
   "metadata": {},
   "source": [
    "<h2> Lựa chọn đặc trưng (Predictor Selection)"
   ]
  },
  {
   "cell_type": "code",
   "execution_count": 15,
   "id": "8b85a736",
   "metadata": {},
   "outputs": [
    {
     "name": "stdout",
     "output_type": "stream",
     "text": [
      "Setup Complete.\n"
     ]
    }
   ],
   "source": [
    "from scipy import stats\n",
    "print('Setup Complete.')"
   ]
  },
  {
   "cell_type": "markdown",
   "id": "2ea11173",
   "metadata": {},
   "source": [
    "Chúng tôi đã quyết định lựa chọn các biến preditors để run mô hình bằng chỉ số correlation. Chúng tôi sẽ đánh giá mối tương quan của các trường so với trường target 'Churn_Yes' và lựa chọn các trường có tương quan cao nhất để xây dựng mô hình dự báo."
   ]
  },
  {
   "cell_type": "code",
   "execution_count": 16,
   "id": "c55d6dd6",
   "metadata": {},
   "outputs": [
    {
     "data": {
      "text/plain": [
       "tenure                                    -0.354049\n",
       "Contract_Two year                         -0.301552\n",
       "StreamingMovies_No internet service       -0.227578\n",
       "StreamingTV_No internet service           -0.227578\n",
       "TechSupport_No internet service           -0.227578\n",
       "DeviceProtection_No internet service      -0.227578\n",
       "OnlineSecurity_No internet service        -0.227578\n",
       "InternetService_No                        -0.227578\n",
       "OnlineBackup_No internet service          -0.227578\n",
       "TotalCharges                              -0.199484\n",
       "Contract_One year                         -0.178225\n",
       "OnlineSecurity_Yes                        -0.171270\n",
       "TechSupport_Yes                           -0.164716\n",
       "Dependents_Yes                            -0.163128\n",
       "Partner_Yes                               -0.149982\n",
       "PaymentMethod_Credit card (automatic)     -0.134687\n",
       "InternetService_DSL                       -0.124141\n",
       "PaymentMethod_Bank transfer (automatic)   -0.118136\n",
       "PaymentMethod_Mailed check                -0.090773\n",
       "OnlineBackup_Yes                          -0.082307\n",
       "DeviceProtection_Yes                      -0.066193\n",
       "MultipleLines_No                          -0.032654\n",
       "MultipleLines_No phone service            -0.011691\n",
       "gender_Male                               -0.008545\n",
       "PhoneService_Yes                           0.011691\n",
       "MultipleLines_Yes                          0.040033\n",
       "StreamingMovies_Yes                        0.060860\n",
       "StreamingTV_Yes                            0.063254\n",
       "StreamingTV_No                             0.128435\n",
       "StreamingMovies_No                         0.130920\n",
       "SeniorCitizen_1                            0.150541\n",
       "PaperlessBilling_Yes                       0.191454\n",
       "MonthlyCharges                             0.192858\n",
       "DeviceProtection_No                        0.252056\n",
       "OnlineBackup_No                            0.267595\n",
       "PaymentMethod_Electronic check             0.301455\n",
       "InternetService_Fiber optic                0.307463\n",
       "TechSupport_No                             0.336877\n",
       "OnlineSecurity_No                          0.342235\n",
       "Contract_Month-to-month                    0.404565\n",
       "Churn_Yes                                  1.000000\n",
       "Name: Churn_Yes, dtype: float64"
      ]
     },
     "execution_count": 16,
     "metadata": {},
     "output_type": "execute_result"
    }
   ],
   "source": [
    "corr = data.corr()\n",
    "corr['Churn_Yes'].sort_values()"
   ]
  },
  {
   "cell_type": "markdown",
   "id": "1b0421e1",
   "metadata": {},
   "source": [
    "Dựa vào dữ kiện trên, chúng tôi bước đầu lựa chọn 9 biến có corr > 0.25 làm predictors. Chúng tôi đã kiểm tra lại sự quan trọng của các mối tương quan này bằng chỉ số P-value."
   ]
  },
  {
   "cell_type": "code",
   "execution_count": 17,
   "id": "f9afe19a",
   "metadata": {},
   "outputs": [
    {
     "data": {
      "text/plain": [
       "[3.343151723210668e-275,\n",
       " 9.437650217694736e-207,\n",
       " 1.9034030492949553e-192,\n",
       " 3.6733156300954676e-186,\n",
       " 7.887445172148873e-154,\n",
       " 9.155159235118148e-148,\n",
       " 1.1500995110607725e-147,\n",
       " 1.340929056276739e-115,\n",
       " 2.3641338662217002e-102]"
      ]
     },
     "execution_count": 17,
     "metadata": {},
     "output_type": "execute_result"
    }
   ],
   "source": [
    "predictors = ['Contract_Month-to-month', 'tenure', 'OnlineSecurity_No', 'TechSupport_No', 'InternetService_Fiber optic',\n",
    "             'Contract_Two year', 'PaymentMethod_Electronic check', 'OnlineBackup_No', 'DeviceProtection_No']\n",
    "P_values = []\n",
    "for i in predictors:\n",
    "    pearson_coef, p_value = stats.pearsonr(data[i], data['Churn_Yes'])\n",
    "    P_values.append(p_value)\n",
    "P_values"
   ]
  },
  {
   "cell_type": "markdown",
   "id": "86c8638d",
   "metadata": {},
   "source": [
    "Chúng ta thấy P-value của các trường này đều tiệm cận đến 0. Do đó, chúng tôi kết luận mối tương quan giữa 9 trường này với trường target 'Churn_Yes' có ý nghĩa quan trọng. Đó là các trường sau:\n",
    "- <h4> Contract_Month-to-month\n",
    "- <h4> tenure\n",
    "- <h4> OnlineSecurity_No\n",
    "- <h4> TechSupport_No\n",
    "- <h4> InternetService_Fiber optic\n",
    "- <h4> Contract_Two year\n",
    "- <h4> PaymentMethod_Electronic check\n",
    "- <h4> OnlineBackup_No\n",
    "- <h4> DeviceProtection_No"
   ]
  },
  {
   "cell_type": "markdown",
   "id": "021fdfe9",
   "metadata": {},
   "source": [
    "<h1> Xây dựng mô hình dự đoán (Predictive Model)"
   ]
  },
  {
   "cell_type": "markdown",
   "id": "3996b593",
   "metadata": {},
   "source": [
    "<h2> Chia tập dữ liệu Training - Testing (Training - Testing Split)"
   ]
  },
  {
   "cell_type": "code",
   "execution_count": 18,
   "id": "950d907f",
   "metadata": {},
   "outputs": [
    {
     "name": "stdout",
     "output_type": "stream",
     "text": [
      "Setup Complete.\n"
     ]
    }
   ],
   "source": [
    "from sklearn.model_selection import train_test_split\n",
    "print('Setup Complete.')"
   ]
  },
  {
   "cell_type": "code",
   "execution_count": 19,
   "id": "f9c09926",
   "metadata": {},
   "outputs": [],
   "source": [
    "data_train, data_test = train_test_split(data, test_size = 0.2, stratify = data['Churn_Yes'], random_state = 999)"
   ]
  },
  {
   "cell_type": "code",
   "execution_count": 20,
   "id": "cb024dc3",
   "metadata": {},
   "outputs": [
    {
     "data": {
      "text/plain": [
       "0    4130\n",
       "1    1495\n",
       "Name: Churn_Yes, dtype: int64"
      ]
     },
     "execution_count": 20,
     "metadata": {},
     "output_type": "execute_result"
    }
   ],
   "source": [
    "data_train['Churn_Yes'].value_counts()"
   ]
  },
  {
   "cell_type": "code",
   "execution_count": 21,
   "id": "d0fa81fd",
   "metadata": {},
   "outputs": [
    {
     "data": {
      "text/plain": [
       "0    1033\n",
       "1     374\n",
       "Name: Churn_Yes, dtype: int64"
      ]
     },
     "execution_count": 21,
     "metadata": {},
     "output_type": "execute_result"
    }
   ],
   "source": [
    "data_test['Churn_Yes'].value_counts()"
   ]
  },
  {
   "cell_type": "markdown",
   "id": "692d34d9",
   "metadata": {},
   "source": [
    "<h2> Xử lí mất cân bằng dữ liệu (Handle Imbalanced data)"
   ]
  },
  {
   "cell_type": "code",
   "execution_count": 23,
   "id": "00ab1af5",
   "metadata": {},
   "outputs": [
    {
     "name": "stdout",
     "output_type": "stream",
     "text": [
      "Setup Complete.\n"
     ]
    }
   ],
   "source": [
    "from imblearn.over_sampling import RandomOverSampler\n",
    "from imblearn.over_sampling import SMOTE\n",
    "from imblearn.combine import SMOTETomek\n",
    "print('Setup Complete.')"
   ]
  },
  {
   "cell_type": "code",
   "execution_count": 24,
   "id": "a2c94b52",
   "metadata": {},
   "outputs": [
    {
     "data": {
      "text/plain": [
       "<AxesSubplot:xlabel='Churn_Yes', ylabel='count'>"
      ]
     },
     "execution_count": 24,
     "metadata": {},
     "output_type": "execute_result"
    },
    {
     "data": {
      "image/png": "[encoded data removed]",
      "text/plain": [
       "<Figure size 432x288 with 1 Axes>"
      ]
     },
     "metadata": {
      "needs_background": "light"
     },
     "output_type": "display_data"
    }
   ],
   "source": [
    "sns.countplot(x = 'Churn_Yes', data = data_train)"
   ]
  },
  {
   "cell_type": "markdown",
   "id": "87232b08",
   "metadata": {},
   "source": [
    "Biểu đồ trên thể hiện sự phân bố giữa Churn Customer và Active Customer. Chúng tôi nhận thấy data_train đang có sự mất cân bằng giữa 2 loại khách hàng. Do đó, chúng tôi đã tiến hành xử lý Imbalanced data bằng 2 phương pháp chính:\n",
    "- OverSampling Data: Phương pháp này bao gồm 3 cách: Oversampling by ROS, Oversampling with shrinkage, Oversampling by SMOTE\n",
    "- Combine OverSampling and UnderSampling"
   ]
  },
  {
   "cell_type": "markdown",
   "id": "ddede62b",
   "metadata": {},
   "source": [
    "<h3> Xử lý mất cân bằng dữ liệu bằng phương pháp Oversampling Data"
   ]
  },
  {
   "cell_type": "markdown",
   "id": "0c0194ba",
   "metadata": {},
   "source": [
    "<h5> Oversampling by ROS"
   ]
  },
  {
   "cell_type": "code",
   "execution_count": 25,
   "id": "b847efdd",
   "metadata": {},
   "outputs": [
    {
     "data": {
      "text/plain": [
       "0    4130\n",
       "1    4130\n",
       "Name: Churn_Yes, dtype: int64"
      ]
     },
     "execution_count": 25,
     "metadata": {},
     "output_type": "execute_result"
    }
   ],
   "source": [
    "ros = RandomOverSampler(random_state = 999)\n",
    "x = data_train.drop('Churn_Yes', axis = 1)\n",
    "y = data_train['Churn_Yes']\n",
    "x_resampled, y_resampled = ros.fit_resample(x, y)\n",
    "y_resampled.value_counts()"
   ]
  },
  {
   "cell_type": "code",
   "execution_count": 26,
   "id": "ddb99dba",
   "metadata": {},
   "outputs": [],
   "source": [
    "data_train_ros = pd.concat([x_resampled, y_resampled], axis = 1)"
   ]
  },
  {
   "cell_type": "markdown",
   "id": "8975412b",
   "metadata": {},
   "source": [
    "<h5> OverSampling with shrinkage"
   ]
  },
  {
   "cell_type": "code",
   "execution_count": 27,
   "id": "fd2259fa",
   "metadata": {},
   "outputs": [
    {
     "data": {
      "text/plain": [
       "0    4130\n",
       "1    4130\n",
       "Name: Churn_Yes, dtype: int64"
      ]
     },
     "execution_count": 27,
     "metadata": {},
     "output_type": "execute_result"
    }
   ],
   "source": [
    "ros = RandomOverSampler(random_state = 999, shrinkage = 0.1)\n",
    "x = data_train.drop('Churn_Yes', axis = 1)\n",
    "y = data_train['Churn_Yes']\n",
    "x_resampled, y_resampled = ros.fit_resample(x, y)\n",
    "y_resampled.value_counts()"
   ]
  },
  {
   "cell_type": "code",
   "execution_count": 28,
   "id": "c1a37e21",
   "metadata": {},
   "outputs": [],
   "source": [
    "data_train_shrinkage = pd.concat([x_resampled, y_resampled], axis = 1)"
   ]
  },
  {
   "cell_type": "markdown",
   "id": "1c4c447f",
   "metadata": {},
   "source": [
    "<h5> Oversampling by SMOTE"
   ]
  },
  {
   "cell_type": "code",
   "execution_count": 29,
   "id": "958672ed",
   "metadata": {},
   "outputs": [
    {
     "data": {
      "text/plain": [
       "0    4130\n",
       "1    4130\n",
       "Name: Churn_Yes, dtype: int64"
      ]
     },
     "execution_count": 29,
     "metadata": {},
     "output_type": "execute_result"
    }
   ],
   "source": [
    "smote = SMOTE(random_state = 999)\n",
    "x = data_train.drop('Churn_Yes', axis = 1)\n",
    "y = data_train['Churn_Yes']\n",
    "x_resampled, y_resampled = smote.fit_resample(x, y)\n",
    "y_resampled.value_counts()"
   ]
  },
  {
   "cell_type": "code",
   "execution_count": 30,
   "id": "098efdbc",
   "metadata": {},
   "outputs": [],
   "source": [
    "data_train_smote = pd.concat([x_resampled, y_resampled], axis = 1)"
   ]
  },
  {
   "cell_type": "markdown",
   "id": "bd00be39",
   "metadata": {},
   "source": [
    "<h3> Xử lý mất cân bằng dữ liệu bằng cách kết hợp phương pháp Oversampling và Undersampling"
   ]
  },
  {
   "cell_type": "code",
   "execution_count": 31,
   "id": "c9fded08",
   "metadata": {},
   "outputs": [
    {
     "data": {
      "text/plain": [
       "0    3920\n",
       "1    3920\n",
       "Name: Churn_Yes, dtype: int64"
      ]
     },
     "execution_count": 31,
     "metadata": {},
     "output_type": "execute_result"
    }
   ],
   "source": [
    "smote_tomek = SMOTETomek(random_state = 999)\n",
    "x = data_train.drop('Churn_Yes', axis = 1)\n",
    "y = data_train['Churn_Yes']\n",
    "x_resampled, y_resampled = smote_tomek.fit_resample(x, y)\n",
    "y_resampled.value_counts()"
   ]
  },
  {
   "cell_type": "code",
   "execution_count": 32,
   "id": "2e8d33ca",
   "metadata": {},
   "outputs": [],
   "source": [
    "data_train_smotetomek = pd.concat([x_resampled, y_resampled], axis = 1)"
   ]
  },
  {
   "cell_type": "markdown",
   "id": "51790214",
   "metadata": {},
   "source": [
    "<h2> Chạy mô hình (Run Model)"
   ]
  },
  {
   "cell_type": "code",
   "execution_count": 33,
   "id": "0bd9fa2d",
   "metadata": {},
   "outputs": [
    {
     "name": "stdout",
     "output_type": "stream",
     "text": [
      "Setup Complete.\n"
     ]
    }
   ],
   "source": [
    "from sklearn.neighbors import KNeighborsClassifier\n",
    "from sklearn.linear_model import LogisticRegression\n",
    "from sklearn.naive_bayes import GaussianNB\n",
    "from sklearn.svm import SVC \n",
    "from sklearn.tree import DecisionTreeClassifier\n",
    "from sklearn.model_selection import GridSearchCV\n",
    "from sklearn.preprocessing import PolynomialFeatures\n",
    "from sklearn.metrics import confusion_matrix, classification_report, accuracy_score, f1_score\n",
    "from sklearn.metrics import roc_auc_score\n",
    "print('Setup Complete.')"
   ]
  },
  {
   "cell_type": "markdown",
   "id": "e334de25",
   "metadata": {},
   "source": [
    "Chúng tôi đã sử dụng 5 thuật toán để giải bài toán Classification, bao gồm:\n",
    "- K-Nearest Neighbors\n",
    "- Logistic Regression\n",
    "- Naive Bayes\n",
    "- Support Vector Machines\n",
    "- Decision Tree"
   ]
  },
  {
   "cell_type": "markdown",
   "id": "801fcd3b",
   "metadata": {},
   "source": [
    "Chúng tôi đã xây dựng các mô hình, chạy thử trên 4 tập training trên và đánh giá mô hình trên tập data_test. Các parameters của mô hình trong báo cáo này là kết quả sau khi chúng tôi đã chạy GridSearch để tìm ra best_parameters sao cho mô hình dự báo hiệu quả nhất."
   ]
  },
  {
   "cell_type": "markdown",
   "id": "f69fb1a4",
   "metadata": {},
   "source": [
    "<h3> Thuật toán K-Nearest Neighbors"
   ]
  },
  {
   "cell_type": "markdown",
   "id": "dcd70aa5",
   "metadata": {},
   "source": [
    "<h4> Chạy mô hình trên tập data_train_ros và data_test"
   ]
  },
  {
   "cell_type": "code",
   "execution_count": 34,
   "id": "53091117",
   "metadata": {},
   "outputs": [],
   "source": [
    "# Tạo bộ dữ liệu x_train_ros, y_train_ros, x_test, y_test\n",
    "x_train_ros = data_train_ros[[\"Contract_Month-to-month\",\"tenure\",\"OnlineSecurity_No\",\"TechSupport_No\",\n",
    "                              \"InternetService_Fiber optic\",\"Contract_Two year\",\"PaymentMethod_Electronic check\",\n",
    "                              \"OnlineBackup_No\",\"DeviceProtection_No\"]]\n",
    "y_train_ros = data_train_ros['Churn_Yes']\n",
    "x_test = data_test[[\"Contract_Month-to-month\",\"tenure\",\"OnlineSecurity_No\",\"TechSupport_No\",\"InternetService_Fiber optic\"\n",
    "          ,\"Contract_Two year\",\"PaymentMethod_Electronic check\",\"OnlineBackup_No\",\"DeviceProtection_No\"]]\n",
    "y_test = data_test['Churn_Yes']"
   ]
  },
  {
   "cell_type": "code",
   "execution_count": 35,
   "id": "c9292154",
   "metadata": {},
   "outputs": [
    {
     "name": "stdout",
     "output_type": "stream",
     "text": [
      "              precision    recall  f1-score   support\n",
      "\n",
      "           0       0.87      0.72      0.79      1033\n",
      "           1       0.48      0.71      0.57       374\n",
      "\n",
      "    accuracy                           0.72      1407\n",
      "   macro avg       0.68      0.71      0.68      1407\n",
      "weighted avg       0.77      0.72      0.73      1407\n",
      "\n",
      "AUC: 0.7143942413716344\n"
     ]
    }
   ],
   "source": [
    "# Sử dụng thuật toán KNeighborsClassifier và huấn luyện mô hình trên tập x_train, y_train\n",
    "knn = KNeighborsClassifier(n_neighbors=21, p = 1, algorithm = 'brute', metric='minkowski',weights='distance')\n",
    "knn.fit(x_train_ros, y_train_ros)\n",
    "\n",
    "# Đánh giá mô hình\n",
    "y_pred = knn.predict(x_test)\n",
    "print(classification_report(y_test, y_pred))\n",
    "print('AUC:', roc_auc_score(y_test, y_pred))"
   ]
  },
  {
   "cell_type": "markdown",
   "id": "1a7fd42b",
   "metadata": {},
   "source": [
    "Chúng tôi đã tổng hợp các chỉ số F1-score, Accuracy và AUC của mô hình kNN chạy trên 4 tập training thành 3 lists tương ứng."
   ]
  },
  {
   "cell_type": "code",
   "execution_count": 36,
   "id": "d8e45cf2",
   "metadata": {},
   "outputs": [],
   "source": [
    "# Tạo ra 3 lists\n",
    "f1_score_kNN = []\n",
    "acc_kNN = []\n",
    "auc_kNN = []\n",
    "\n",
    "# Điền các giá trị F1-score, Accuracy, AUC vào lists\n",
    "f1_score_kNN.append(round(f1_score(y_test, y_pred), 2))\n",
    "acc_kNN.append(round(accuracy_score(y_test, y_pred), 2))\n",
    "auc_kNN.append(round(roc_auc_score(y_test, y_pred), 2))"
   ]
  },
  {
   "cell_type": "markdown",
   "id": "a8052e0a",
   "metadata": {},
   "source": [
    "<h4> Chạy mô hình trên tập  data_train_shrinkage và data_test"
   ]
  },
  {
   "cell_type": "code",
   "execution_count": 37,
   "id": "e3166750",
   "metadata": {},
   "outputs": [],
   "source": [
    "# Tạo bộ dữ liệu x_train_shrinkage, y_train_shrinkage\n",
    "x_train_shrinkage = data_train_shrinkage[[\"Contract_Month-to-month\",\"tenure\",\"OnlineSecurity_No\",\"TechSupport_No\",\n",
    "                                \"InternetService_Fiber optic\",\"Contract_Two year\",\"PaymentMethod_Electronic check\",\n",
    "                                \"OnlineBackup_No\",\"DeviceProtection_No\"]]\n",
    "y_train_shrinkage = data_train_shrinkage['Churn_Yes']"
   ]
  },
  {
   "cell_type": "code",
   "execution_count": 38,
   "id": "3c7ef4df",
   "metadata": {},
   "outputs": [
    {
     "name": "stdout",
     "output_type": "stream",
     "text": [
      "              precision    recall  f1-score   support\n",
      "\n",
      "           0       0.84      0.74      0.78      1033\n",
      "           1       0.45      0.60      0.52       374\n",
      "\n",
      "    accuracy                           0.70      1407\n",
      "   macro avg       0.65      0.67      0.65      1407\n",
      "weighted avg       0.73      0.70      0.71      1407\n",
      "\n",
      "AUC: 0.6692619492573937\n"
     ]
    }
   ],
   "source": [
    "# Tạo PolynomialFeatures \n",
    "poly = PolynomialFeatures(degree = 2)\n",
    "\n",
    "# Huấn luyện mô hình trên bộ x_train và x_test\n",
    "x_train_shrinkage_poly = poly.fit_transform(x_train_shrinkage)\n",
    "x_test_poly = poly.fit_transform(x_test)\n",
    "\n",
    "# Sử dụng thuật toán KNeighborsClassifier và Huấn luyện mô hình trên bộ x_train, y_train \n",
    "knn = KNeighborsClassifier(n_neighbors=29, p = 2, algorithm = 'ball_tree', metric='minkowski',weights='distance')\n",
    "knn.fit(x_train_shrinkage_poly, y_train_shrinkage)\n",
    "\n",
    "# Đánh giá mô hình\n",
    "y_pred = knn.predict(x_test_poly)\n",
    "print(classification_report(y_test, y_pred))\n",
    "print('AUC:', roc_auc_score(y_test, y_pred))"
   ]
  },
  {
   "cell_type": "code",
   "execution_count": 39,
   "id": "abd0b57f",
   "metadata": {},
   "outputs": [],
   "source": [
    "## Điền các giá trị F1-score, Accuracy, AUC vào lists\n",
    "f1_score_kNN.append(round(f1_score(y_test, y_pred), 2))\n",
    "acc_kNN.append(round(accuracy_score(y_test, y_pred), 2))\n",
    "auc_kNN.append(round(roc_auc_score(y_test, y_pred), 2))"
   ]
  },
  {
   "cell_type": "markdown",
   "id": "b8b51289",
   "metadata": {},
   "source": [
    "<h4> Chạy mô hình trên tập data_train_smote và data_test"
   ]
  },
  {
   "cell_type": "code",
   "execution_count": 40,
   "id": "fcd7331c",
   "metadata": {},
   "outputs": [],
   "source": [
    "# Tạo bộ dữ liệu  x_train_smote, y_train_smote\n",
    "x_train_smote = data_train_smote[[\"Contract_Month-to-month\",\"tenure\",\"OnlineSecurity_No\",\"TechSupport_No\",\n",
    "                                \"InternetService_Fiber optic\",\"Contract_Two year\",\"PaymentMethod_Electronic check\",\n",
    "                                \"OnlineBackup_No\",\"DeviceProtection_No\"]]\n",
    "y_train_smote = data_train_smote['Churn_Yes']"
   ]
  },
  {
   "cell_type": "code",
   "execution_count": 41,
   "id": "a8563475",
   "metadata": {},
   "outputs": [
    {
     "name": "stdout",
     "output_type": "stream",
     "text": [
      "              precision    recall  f1-score   support\n",
      "\n",
      "           0       0.91      0.71      0.79      1033\n",
      "           1       0.50      0.80      0.61       374\n",
      "\n",
      "    accuracy                           0.73      1407\n",
      "   macro avg       0.70      0.75      0.70      1407\n",
      "weighted avg       0.80      0.73      0.75      1407\n",
      "\n",
      "AUC: 0.7522195360587253\n"
     ]
    }
   ],
   "source": [
    "# Tạo PolynomialFeatures \n",
    "poly = PolynomialFeatures(degree = 2)\n",
    "\n",
    "# Huấn luyện mô hình trên bộ x_train và x_test\n",
    "x_train_smote_poly = poly.fit_transform(x_train_smote)\n",
    "x_test_poly = poly.fit_transform(x_test)\n",
    "\n",
    "# Sử dụng thuật toán KNeighborsClassifier và huấn luyện mô hình trên bộ x_train, y_train \n",
    "knn = KNeighborsClassifier(n_neighbors=19, p = 1, algorithm = 'brute', metric='minkowski',weights='uniform')\n",
    "knn.fit(x_train_smote_poly, y_train_smote)\n",
    "\n",
    "# Đánh giá mô hình\n",
    "y_pred = knn.predict(x_test_poly)\n",
    "print(classification_report(y_test, y_pred))\n",
    "print('AUC:', roc_auc_score(y_test, y_pred))"
   ]
  },
  {
   "cell_type": "code",
   "execution_count": 42,
   "id": "a60061b7",
   "metadata": {},
   "outputs": [],
   "source": [
    "# Điền các giá trị F1-score, Accuracy, AUC vào lists\n",
    "f1_score_kNN.append(round(f1_score(y_test, y_pred), 2))\n",
    "acc_kNN.append(round(accuracy_score(y_test, y_pred), 2))\n",
    "auc_kNN.append(round(roc_auc_score(y_test, y_pred), 2))"
   ]
  },
  {
   "cell_type": "markdown",
   "id": "dba1f7ec",
   "metadata": {},
   "source": [
    "<h4> Chạy mô hình trên tập data_train_smotetomek và data_test"
   ]
  },
  {
   "cell_type": "code",
   "execution_count": 43,
   "id": "18dcff6b",
   "metadata": {},
   "outputs": [],
   "source": [
    "# Tạo bộ dữ liệu x_train_smotetomek, y_train_smotetomek\n",
    "x_train_smotetomek = data_train_smotetomek[[\"Contract_Month-to-month\",\"tenure\",\"OnlineSecurity_No\",\"TechSupport_No\",\n",
    "                                \"InternetService_Fiber optic\",\"Contract_Two year\",\"PaymentMethod_Electronic check\",\n",
    "                                \"OnlineBackup_No\",\"DeviceProtection_No\"]]\n",
    "y_train_smotetomek = data_train_smotetomek['Churn_Yes']"
   ]
  },
  {
   "cell_type": "code",
   "execution_count": 44,
   "id": "7ae9c30f",
   "metadata": {
    "scrolled": true
   },
   "outputs": [
    {
     "name": "stdout",
     "output_type": "stream",
     "text": [
      "              precision    recall  f1-score   support\n",
      "\n",
      "           0       0.90      0.69      0.78      1033\n",
      "           1       0.48      0.79      0.60       374\n",
      "\n",
      "    accuracy                           0.71      1407\n",
      "   macro avg       0.69      0.74      0.69      1407\n",
      "weighted avg       0.79      0.71      0.73      1407\n",
      "\n",
      "AUC: 0.7388971429458874\n"
     ]
    }
   ],
   "source": [
    "# Sự dụng thuật toán KNeighborsClassifier và huấn luyện mô hình trên bộ x_train, y_train \n",
    "knn = KNeighborsClassifier(n_neighbors=13, p = 1, algorithm = 'brute', metric='minkowski',weights='uniform')\n",
    "knn.fit(x_train_smotetomek, y_train_smotetomek)\n",
    "\n",
    "# Đánh giá mô hình\n",
    "y_pred = knn.predict(x_test)\n",
    "print(classification_report(y_test, y_pred))\n",
    "print('AUC:', roc_auc_score(y_test, y_pred))"
   ]
  },
  {
   "cell_type": "code",
   "execution_count": 45,
   "id": "daf6195a",
   "metadata": {},
   "outputs": [],
   "source": [
    "# Điền các giá trị F1-score, Accuracy, AUC vào lists\n",
    "f1_score_kNN.append(round(f1_score(y_test, y_pred), 2))\n",
    "acc_kNN.append(round(accuracy_score(y_test, y_pred), 2))\n",
    "auc_kNN.append(round(roc_auc_score(y_test, y_pred), 2))"
   ]
  },
  {
   "cell_type": "markdown",
   "id": "601e022c",
   "metadata": {},
   "source": [
    "Chúng tôi đã tạo 1 dataframe biểu thị các chỉ số F1-score, Accuracy, AUC của mô hình kNN khi chạy trên từng tập Training data để so sánh và đưa ra mô hình hiệu quả nhất."
   ]
  },
  {
   "cell_type": "code",
   "execution_count": 46,
   "id": "43cea265",
   "metadata": {},
   "outputs": [
    {
     "data": {
      "text/html": [
       "<div>\n",
       "<style scoped>\n",
       "    .dataframe tbody tr th:only-of-type {\n",
       "        vertical-align: middle;\n",
       "    }\n",
       "\n",
       "    .dataframe tbody tr th {\n",
       "        vertical-align: top;\n",
       "    }\n",
       "\n",
       "    .dataframe thead th {\n",
       "        text-align: right;\n",
       "    }\n",
       "</style>\n",
       "<table border=\"1\" class=\"dataframe\">\n",
       "  <thead>\n",
       "    <tr style=\"text-align: right;\">\n",
       "      <th></th>\n",
       "      <th>Training data</th>\n",
       "      <th>F1-score</th>\n",
       "      <th>Accuracy</th>\n",
       "      <th>AUC</th>\n",
       "    </tr>\n",
       "  </thead>\n",
       "  <tbody>\n",
       "    <tr>\n",
       "      <th>0</th>\n",
       "      <td>ros</td>\n",
       "      <td>0.57</td>\n",
       "      <td>0.72</td>\n",
       "      <td>0.71</td>\n",
       "    </tr>\n",
       "    <tr>\n",
       "      <th>1</th>\n",
       "      <td>shrinkage</td>\n",
       "      <td>0.52</td>\n",
       "      <td>0.70</td>\n",
       "      <td>0.67</td>\n",
       "    </tr>\n",
       "    <tr>\n",
       "      <th>2</th>\n",
       "      <td>smote</td>\n",
       "      <td>0.61</td>\n",
       "      <td>0.73</td>\n",
       "      <td>0.75</td>\n",
       "    </tr>\n",
       "    <tr>\n",
       "      <th>3</th>\n",
       "      <td>smotetomek</td>\n",
       "      <td>0.60</td>\n",
       "      <td>0.71</td>\n",
       "      <td>0.74</td>\n",
       "    </tr>\n",
       "  </tbody>\n",
       "</table>\n",
       "</div>"
      ],
      "text/plain": [
       "  Training data  F1-score  Accuracy   AUC\n",
       "0           ros      0.57      0.72  0.71\n",
       "1     shrinkage      0.52      0.70  0.67\n",
       "2         smote      0.61      0.73  0.75\n",
       "3    smotetomek      0.60      0.71  0.74"
      ]
     },
     "execution_count": 46,
     "metadata": {},
     "output_type": "execute_result"
    }
   ],
   "source": [
    "Training_data = ['ros', 'shrinkage', 'smote', 'smotetomek']\n",
    "kNN_evaluation = pd.DataFrame(list(zip(Training_data, f1_score_kNN, acc_kNN, auc_kNN)), \n",
    "                              columns = ['Training data', 'F1-score', 'Accuracy', 'AUC'])\n",
    "kNN_evaluation"
   ]
  },
  {
   "cell_type": "markdown",
   "id": "7f0060c6",
   "metadata": {},
   "source": [
    "Dựa vào bảng dữ liệu trên, chúng ta thấy mô hình kNN chạy trên tập data_train_smote đang hiệu quả nhất. "
   ]
  },
  {
   "cell_type": "code",
   "execution_count": 47,
   "id": "bbe7bc0c",
   "metadata": {},
   "outputs": [],
   "source": [
    "model_evaluation = []\n",
    "kNN = ['kNN', 0.61, 0.73, 0.75]\n",
    "model_evaluation.append(kNN)"
   ]
  },
  {
   "cell_type": "markdown",
   "id": "a24fa223",
   "metadata": {},
   "source": [
    "<h3> Thuật toán Logistic Regression"
   ]
  },
  {
   "cell_type": "markdown",
   "id": "848699c9",
   "metadata": {},
   "source": [
    "<h4> Chạy mô hình trên tập data_train_ros và data_test"
   ]
  },
  {
   "cell_type": "code",
   "execution_count": 49,
   "id": "c9ae036a",
   "metadata": {
    "scrolled": true
   },
   "outputs": [
    {
     "name": "stdout",
     "output_type": "stream",
     "text": [
      "              precision    recall  f1-score   support\n",
      "\n",
      "           0       0.90      0.73      0.81      1033\n",
      "           1       0.51      0.78      0.62       374\n",
      "\n",
      "    accuracy                           0.75      1407\n",
      "   macro avg       0.71      0.76      0.72      1407\n",
      "weighted avg       0.80      0.75      0.76      1407\n",
      "\n",
      "AUC: 0.7572668775333772\n"
     ]
    }
   ],
   "source": [
    "# Tạo PolynomialFeatures \n",
    "poly = PolynomialFeatures(degree = 3)\n",
    "\n",
    "# Huấn luyện mô hình trên bộ x_train và x_test\n",
    "x_train_ros_poly = poly.fit_transform(x_train_ros)\n",
    "x_test_poly = poly.fit_transform(x_test)\n",
    "\n",
    "# Sử dụng thuật toán LogisticRegression và huấn luyện mô hình trên x_train_poly, y_train\n",
    "lr = LogisticRegression(max_iter = 2000, penalty = 'l2', C = 0.1)\n",
    "lr.fit(x_train_ros_poly, y_train_ros)\n",
    "\n",
    "# Đánh giá mô hình\n",
    "y_pred = lr.predict(x_test_poly)\n",
    "print(classification_report(y_test, y_pred))\n",
    "print('AUC:', roc_auc_score(y_test, y_pred))"
   ]
  },
  {
   "cell_type": "code",
   "execution_count": 50,
   "id": "cebbb86e",
   "metadata": {},
   "outputs": [],
   "source": [
    "# Tạo 3 lists\n",
    "f1_score_lr = []\n",
    "acc_lr = []\n",
    "auc_lr = []\n",
    "\n",
    "# Điền các giá trị F1-score, Accuracy, AUC vào lists\n",
    "f1_score_lr.append(round(f1_score(y_test, y_pred), 2))\n",
    "acc_lr.append(round(accuracy_score(y_test, y_pred), 2))\n",
    "auc_lr.append(round(roc_auc_score(y_test, y_pred), 2))"
   ]
  },
  {
   "cell_type": "markdown",
   "id": "50b24ce1",
   "metadata": {},
   "source": [
    "<h4> Chạy mô hình trên tập data_train_shrinkage và data_test"
   ]
  },
  {
   "cell_type": "code",
   "execution_count": 52,
   "id": "bc250aa7",
   "metadata": {},
   "outputs": [
    {
     "name": "stdout",
     "output_type": "stream",
     "text": [
      "              precision    recall  f1-score   support\n",
      "\n",
      "           0       0.87      0.72      0.79      1033\n",
      "           1       0.47      0.70      0.56       374\n",
      "\n",
      "    accuracy                           0.71      1407\n",
      "   macro avg       0.67      0.71      0.67      1407\n",
      "weighted avg       0.76      0.71      0.73      1407\n",
      "\n",
      "AUC: 0.708447437762397\n"
     ]
    }
   ],
   "source": [
    "# Tạo PolynomialFeatures object\n",
    "poly = PolynomialFeatures(degree = 3)\n",
    "\n",
    "# Huấn luyện mô hình trên bộ x_train và x_test\n",
    "x_train_shrinkage_poly = poly.fit_transform(x_train_shrinkage)\n",
    "x_test_poly = poly.fit_transform(x_test)\n",
    "\n",
    "# Sử dụng thuật toán LogisticRegression và huấn luyện mô hình trên x_train_poly, y_train\n",
    "lr = LogisticRegression(max_iter = 2000, penalty = 'l2', C = 10)\n",
    "lr.fit(x_train_shrinkage_poly, y_train_shrinkage)\n",
    "\n",
    "# Đánh giá mô hình\n",
    "y_pred = lr.predict(x_test_poly)\n",
    "print(classification_report(y_test, y_pred))\n",
    "print('AUC:', roc_auc_score(y_test, y_pred))"
   ]
  },
  {
   "cell_type": "code",
   "execution_count": 53,
   "id": "5d2925aa",
   "metadata": {},
   "outputs": [],
   "source": [
    "# Điền các giá trị F1-score, Accuracy, AUC vào lists\n",
    "f1_score_lr.append(round(f1_score(y_test, y_pred), 2))\n",
    "acc_lr.append(round(accuracy_score(y_test, y_pred), 2))\n",
    "auc_lr.append(round(roc_auc_score(y_test, y_pred), 2))"
   ]
  },
  {
   "cell_type": "markdown",
   "id": "1cdffc77",
   "metadata": {},
   "source": [
    "<h4> Chạy mô hình trên tập data_train_smote và data_test"
   ]
  },
  {
   "cell_type": "code",
   "execution_count": 54,
   "id": "4f660901",
   "metadata": {},
   "outputs": [
    {
     "name": "stdout",
     "output_type": "stream",
     "text": [
      "              precision    recall  f1-score   support\n",
      "\n",
      "           0       0.90      0.74      0.81      1033\n",
      "           1       0.52      0.78      0.63       374\n",
      "\n",
      "    accuracy                           0.75      1407\n",
      "   macro avg       0.71      0.76      0.72      1407\n",
      "weighted avg       0.80      0.75      0.76      1407\n",
      "\n",
      "AUC: 0.7610239114566887\n"
     ]
    }
   ],
   "source": [
    "# Tạo PolynomialFeatures object\n",
    "poly = PolynomialFeatures(degree = 3)\n",
    "\n",
    "# Huấn luyện mô hình trên bộ x_train và x_test\n",
    "x_train_smote_poly = poly.fit_transform(x_train_smote)\n",
    "x_test_poly = poly.fit_transform(x_test)\n",
    "\n",
    "# Sử dụng thuật toán LogisticRegression và huấn luyện mô hình trên x_train_poly, y_train\n",
    "lr = LogisticRegression(max_iter = 2000, penalty = 'l2', C = 0.1)\n",
    "lr.fit(x_train_smote_poly, y_train_smote)\n",
    "\n",
    "# Đánh giá mô hình\n",
    "y_pred = lr.predict(x_test_poly)\n",
    "print(classification_report(y_test, y_pred))\n",
    "print('AUC:', roc_auc_score(y_test, y_pred))"
   ]
  },
  {
   "cell_type": "code",
   "execution_count": 55,
   "id": "64ea36c6",
   "metadata": {},
   "outputs": [],
   "source": [
    "# Điền các giá trị F1-score, Accuracy, AUC vào lists\n",
    "f1_score_lr.append(round(f1_score(y_test, y_pred), 2))\n",
    "acc_lr.append(round(accuracy_score(y_test, y_pred), 2))\n",
    "auc_lr.append(round(roc_auc_score(y_test, y_pred), 2))"
   ]
  },
  {
   "cell_type": "markdown",
   "id": "d0c1f283",
   "metadata": {},
   "source": [
    "<h4> Chạy mô hình trên tập data_train_smotetomek và data_test"
   ]
  },
  {
   "cell_type": "code",
   "execution_count": 56,
   "id": "aaf2c1d7",
   "metadata": {},
   "outputs": [
    {
     "name": "stdout",
     "output_type": "stream",
     "text": [
      "              precision    recall  f1-score   support\n",
      "\n",
      "           0       0.90      0.74      0.81      1033\n",
      "           1       0.52      0.79      0.62       374\n",
      "\n",
      "    accuracy                           0.75      1407\n",
      "   macro avg       0.71      0.76      0.72      1407\n",
      "weighted avg       0.80      0.75      0.76      1407\n",
      "\n",
      "AUC: 0.7609087285358569\n"
     ]
    }
   ],
   "source": [
    "# Tạo PolynomialFeatures object\n",
    "poly = PolynomialFeatures(degree = 3)\n",
    "\n",
    "# Huấn luyện mô hình trên bộ x_train và x_test\n",
    "x_train_smotetomek_poly = poly.fit_transform(x_train_smotetomek)\n",
    "x_test_poly = poly.fit_transform(x_test)\n",
    "\n",
    "# Sử dụng thuật toán LogisticRegression và huấn luyện mô hình trên x_train_poly, y_train\n",
    "lr = LogisticRegression(max_iter = 2000, penalty = 'l2', C = 1)\n",
    "lr.fit(x_train_smotetomek_poly, y_train_smotetomek)\n",
    "\n",
    "# Đánh giá mô hình\n",
    "y_pred = lr.predict(x_test_poly)\n",
    "print(classification_report(y_test, y_pred))\n",
    "print('AUC:', roc_auc_score(y_test, y_pred))"
   ]
  },
  {
   "cell_type": "code",
   "execution_count": 57,
   "id": "d3fc6cfe",
   "metadata": {},
   "outputs": [],
   "source": [
    "# Điền các giá trị F1-score, Accuracy, AUC vào lists\n",
    "f1_score_lr.append(round(f1_score(y_test, y_pred), 2))\n",
    "acc_lr.append(round(accuracy_score(y_test, y_pred), 2))\n",
    "auc_lr.append(round(roc_auc_score(y_test, y_pred), 2))"
   ]
  },
  {
   "cell_type": "code",
   "execution_count": 58,
   "id": "e5892908",
   "metadata": {},
   "outputs": [
    {
     "data": {
      "text/html": [
       "<div>\n",
       "<style scoped>\n",
       "    .dataframe tbody tr th:only-of-type {\n",
       "        vertical-align: middle;\n",
       "    }\n",
       "\n",
       "    .dataframe tbody tr th {\n",
       "        vertical-align: top;\n",
       "    }\n",
       "\n",
       "    .dataframe thead th {\n",
       "        text-align: right;\n",
       "    }\n",
       "</style>\n",
       "<table border=\"1\" class=\"dataframe\">\n",
       "  <thead>\n",
       "    <tr style=\"text-align: right;\">\n",
       "      <th></th>\n",
       "      <th>Training data</th>\n",
       "      <th>F1-score</th>\n",
       "      <th>Accuracy</th>\n",
       "      <th>AUC</th>\n",
       "    </tr>\n",
       "  </thead>\n",
       "  <tbody>\n",
       "    <tr>\n",
       "      <th>0</th>\n",
       "      <td>ros</td>\n",
       "      <td>0.62</td>\n",
       "      <td>0.75</td>\n",
       "      <td>0.76</td>\n",
       "    </tr>\n",
       "    <tr>\n",
       "      <th>1</th>\n",
       "      <td>shrinkage</td>\n",
       "      <td>0.56</td>\n",
       "      <td>0.71</td>\n",
       "      <td>0.71</td>\n",
       "    </tr>\n",
       "    <tr>\n",
       "      <th>2</th>\n",
       "      <td>smote</td>\n",
       "      <td>0.63</td>\n",
       "      <td>0.75</td>\n",
       "      <td>0.76</td>\n",
       "    </tr>\n",
       "    <tr>\n",
       "      <th>3</th>\n",
       "      <td>smotetomek</td>\n",
       "      <td>0.62</td>\n",
       "      <td>0.75</td>\n",
       "      <td>0.76</td>\n",
       "    </tr>\n",
       "  </tbody>\n",
       "</table>\n",
       "</div>"
      ],
      "text/plain": [
       "  Training data  F1-score  Accuracy   AUC\n",
       "0           ros      0.62      0.75  0.76\n",
       "1     shrinkage      0.56      0.71  0.71\n",
       "2         smote      0.63      0.75  0.76\n",
       "3    smotetomek      0.62      0.75  0.76"
      ]
     },
     "execution_count": 58,
     "metadata": {},
     "output_type": "execute_result"
    }
   ],
   "source": [
    "lr_evaluation = pd.DataFrame(list(zip(Training_data, f1_score_lr, acc_lr, auc_lr)), \n",
    "                              columns = ['Training data', 'F1-score', 'Accuracy', 'AUC'])\n",
    "lr_evaluation"
   ]
  },
  {
   "cell_type": "markdown",
   "id": "ab75cace",
   "metadata": {},
   "source": [
    "Dựa vào bảng dữ liệu trên, chúng ta thấy mô hình LR chạy trên tập data_train_smote đang hiệu quả nhất. "
   ]
  },
  {
   "cell_type": "code",
   "execution_count": 59,
   "id": "35683634",
   "metadata": {},
   "outputs": [],
   "source": [
    "lr = ['LR', 0.63, 0.75, 0.76]\n",
    "model_evaluation.append(lr)"
   ]
  },
  {
   "cell_type": "markdown",
   "id": "df5a2db7",
   "metadata": {},
   "source": [
    "<h3> Thuật toán Naive Bayes"
   ]
  },
  {
   "cell_type": "markdown",
   "id": "c1e175d3",
   "metadata": {},
   "source": [
    "<h4> Chạy mô hình trên tập data_train_ros và data_test"
   ]
  },
  {
   "cell_type": "code",
   "execution_count": 60,
   "id": "de36bf32",
   "metadata": {},
   "outputs": [
    {
     "name": "stdout",
     "output_type": "stream",
     "text": [
      "              precision    recall  f1-score   support\n",
      "\n",
      "           0       0.93      0.65      0.76      1033\n",
      "           1       0.47      0.86      0.61       374\n",
      "\n",
      "    accuracy                           0.71      1407\n",
      "   macro avg       0.70      0.75      0.69      1407\n",
      "weighted avg       0.81      0.71      0.72      1407\n",
      "\n",
      "AUC: 0.7544105999347729\n"
     ]
    }
   ],
   "source": [
    "# Sử dụng thuật toán GaussianNB và fit tập x_train, y_train vào mô hình\n",
    "nb = GaussianNB()\n",
    "nb.fit(x_train_ros, y_train_ros)\n",
    "\n",
    "# Đánh giá mô hình\n",
    "y_pred = nb.predict(x_test)\n",
    "print(classification_report(y_test, y_pred))\n",
    "print('AUC:', roc_auc_score(y_test, y_pred))"
   ]
  },
  {
   "cell_type": "code",
   "execution_count": 61,
   "id": "3c7691f0",
   "metadata": {},
   "outputs": [],
   "source": [
    "# Tạo 3 lists\n",
    "f1_score_nb = []\n",
    "acc_nb = []\n",
    "auc_nb = []\n",
    "\n",
    "# Điền giá trị F1-score, Accuracy, AUC vào lists\n",
    "f1_score_nb.append(round(f1_score(y_test, y_pred), 2))\n",
    "acc_nb.append(round(accuracy_score(y_test, y_pred), 2))\n",
    "auc_nb.append(round(roc_auc_score(y_test, y_pred), 2))"
   ]
  },
  {
   "cell_type": "markdown",
   "id": "d8f5ee93",
   "metadata": {},
   "source": [
    "<h4> Chạy mô hình trên tập data_train_shrinkage và data_test"
   ]
  },
  {
   "cell_type": "code",
   "execution_count": 63,
   "id": "7d409c86",
   "metadata": {},
   "outputs": [
    {
     "name": "stdout",
     "output_type": "stream",
     "text": [
      "              precision    recall  f1-score   support\n",
      "\n",
      "           0       0.96      0.43      0.59      1033\n",
      "           1       0.38      0.96      0.54       374\n",
      "\n",
      "    accuracy                           0.57      1407\n",
      "   macro avg       0.67      0.69      0.57      1407\n",
      "weighted avg       0.81      0.57      0.58      1407\n",
      "\n",
      "AUC: 0.6920655792018471\n"
     ]
    }
   ],
   "source": [
    "# Sử dụng thuật toán GaussianNB và fit tập x_train, y_train vào mô hình\n",
    "nb = GaussianNB()\n",
    "nb.fit(x_train_shrinkage, y_train_shrinkage)\n",
    "\n",
    "# Đánh giá mô hình\n",
    "y_pred = nb.predict(x_test)\n",
    "print(classification_report(y_test, y_pred))\n",
    "print('AUC:', roc_auc_score(y_test, y_pred))"
   ]
  },
  {
   "cell_type": "code",
   "execution_count": 64,
   "id": "96a09866",
   "metadata": {},
   "outputs": [],
   "source": [
    "# Điền giá trị F1-score, Accuracy, AUC vào lists\n",
    "f1_score_nb.append(round(f1_score(y_test, y_pred), 2))\n",
    "acc_nb.append(round(accuracy_score(y_test, y_pred), 2))\n",
    "auc_nb.append(round(roc_auc_score(y_test, y_pred), 2))"
   ]
  },
  {
   "cell_type": "markdown",
   "id": "cca239e3",
   "metadata": {},
   "source": [
    "<h4> Chạy mô hình trên tập data_train_smote và data_test"
   ]
  },
  {
   "cell_type": "code",
   "execution_count": 65,
   "id": "2f4e6476",
   "metadata": {},
   "outputs": [
    {
     "name": "stdout",
     "output_type": "stream",
     "text": [
      "              precision    recall  f1-score   support\n",
      "\n",
      "           0       0.93      0.64      0.76      1033\n",
      "           1       0.47      0.86      0.61       374\n",
      "\n",
      "    accuracy                           0.70      1407\n",
      "   macro avg       0.70      0.75      0.68      1407\n",
      "weighted avg       0.80      0.70      0.72      1407\n",
      "\n",
      "AUC: 0.7523593085918694\n"
     ]
    }
   ],
   "source": [
    "# Sử dụng thuật toán GaussianNB và fit tập x_train, y_train vào mô hình\n",
    "nb = GaussianNB()\n",
    "nb.fit(x_train_smote, y_train_smote)\n",
    "\n",
    "# Đánh giá mô hình\n",
    "y_pred = nb.predict(x_test)\n",
    "print(classification_report(y_test, y_pred))\n",
    "print('AUC:', roc_auc_score(y_test, y_pred))"
   ]
  },
  {
   "cell_type": "code",
   "execution_count": 66,
   "id": "0e3ff6ed",
   "metadata": {},
   "outputs": [],
   "source": [
    "# Điền giá trị F1-score, Accuracy, AUC vào lists\n",
    "f1_score_nb.append(round(f1_score(y_test, y_pred), 2))\n",
    "acc_nb.append(round(accuracy_score(y_test, y_pred), 2))\n",
    "auc_nb.append(round(roc_auc_score(y_test, y_pred), 2))"
   ]
  },
  {
   "cell_type": "markdown",
   "id": "57b80d98",
   "metadata": {},
   "source": [
    "<h4> Chạy mô hình trên tập data_train_smotetomek và data_test"
   ]
  },
  {
   "cell_type": "code",
   "execution_count": 67,
   "id": "1bebc6af",
   "metadata": {},
   "outputs": [
    {
     "name": "stdout",
     "output_type": "stream",
     "text": [
      "              precision    recall  f1-score   support\n",
      "\n",
      "           0       0.93      0.64      0.76      1033\n",
      "           1       0.46      0.86      0.60       374\n",
      "\n",
      "    accuracy                           0.70      1407\n",
      "   macro avg       0.70      0.75      0.68      1407\n",
      "weighted avg       0.80      0.70      0.72      1407\n",
      "\n",
      "AUC: 0.7499391730642799\n"
     ]
    }
   ],
   "source": [
    "# Sử dụng thuật toán GaussianNB và fit tập x_train, y_train vào mô hình\n",
    "nb = GaussianNB()\n",
    "nb.fit(x_train_smotetomek, y_train_smotetomek)\n",
    "\n",
    "# Đánh giá mô hình \n",
    "y_pred = nb.predict(x_test)\n",
    "print(classification_report(y_test, y_pred))\n",
    "print('AUC:', roc_auc_score(y_test, y_pred))"
   ]
  },
  {
   "cell_type": "code",
   "execution_count": 68,
   "id": "7a5722a6",
   "metadata": {},
   "outputs": [],
   "source": [
    "# Điền giá trị F1-score, Accuracy, AUC vào lists\n",
    "f1_score_nb.append(round(f1_score(y_test, y_pred), 2))\n",
    "acc_nb.append(round(accuracy_score(y_test, y_pred), 2))\n",
    "auc_nb.append(round(roc_auc_score(y_test, y_pred), 2))"
   ]
  },
  {
   "cell_type": "code",
   "execution_count": 69,
   "id": "602ad245",
   "metadata": {},
   "outputs": [
    {
     "data": {
      "text/html": [
       "<div>\n",
       "<style scoped>\n",
       "    .dataframe tbody tr th:only-of-type {\n",
       "        vertical-align: middle;\n",
       "    }\n",
       "\n",
       "    .dataframe tbody tr th {\n",
       "        vertical-align: top;\n",
       "    }\n",
       "\n",
       "    .dataframe thead th {\n",
       "        text-align: right;\n",
       "    }\n",
       "</style>\n",
       "<table border=\"1\" class=\"dataframe\">\n",
       "  <thead>\n",
       "    <tr style=\"text-align: right;\">\n",
       "      <th></th>\n",
       "      <th>Training data</th>\n",
       "      <th>F1-score</th>\n",
       "      <th>Accuracy</th>\n",
       "      <th>AUC</th>\n",
       "    </tr>\n",
       "  </thead>\n",
       "  <tbody>\n",
       "    <tr>\n",
       "      <th>0</th>\n",
       "      <td>ros</td>\n",
       "      <td>0.61</td>\n",
       "      <td>0.71</td>\n",
       "      <td>0.75</td>\n",
       "    </tr>\n",
       "    <tr>\n",
       "      <th>1</th>\n",
       "      <td>shrinkage</td>\n",
       "      <td>0.54</td>\n",
       "      <td>0.57</td>\n",
       "      <td>0.69</td>\n",
       "    </tr>\n",
       "    <tr>\n",
       "      <th>2</th>\n",
       "      <td>smote</td>\n",
       "      <td>0.61</td>\n",
       "      <td>0.70</td>\n",
       "      <td>0.75</td>\n",
       "    </tr>\n",
       "    <tr>\n",
       "      <th>3</th>\n",
       "      <td>smotetomek</td>\n",
       "      <td>0.60</td>\n",
       "      <td>0.70</td>\n",
       "      <td>0.75</td>\n",
       "    </tr>\n",
       "  </tbody>\n",
       "</table>\n",
       "</div>"
      ],
      "text/plain": [
       "  Training data  F1-score  Accuracy   AUC\n",
       "0           ros      0.61      0.71  0.75\n",
       "1     shrinkage      0.54      0.57  0.69\n",
       "2         smote      0.61      0.70  0.75\n",
       "3    smotetomek      0.60      0.70  0.75"
      ]
     },
     "execution_count": 69,
     "metadata": {},
     "output_type": "execute_result"
    }
   ],
   "source": [
    "nb_evaluation = pd.DataFrame(list(zip(Training_data, f1_score_nb, acc_nb, auc_nb)), \n",
    "                              columns = ['Training data', 'F1-score', 'Accuracy', 'AUC'])\n",
    "nb_evaluation"
   ]
  },
  {
   "cell_type": "markdown",
   "id": "b843ef27",
   "metadata": {},
   "source": [
    "Dựa vào bảng dữ liệu trên, chúng ta thấy mô hình NB chạy trên tập data_train_ros đang hiệu quả nhất. "
   ]
  },
  {
   "cell_type": "code",
   "execution_count": 70,
   "id": "f11e3747",
   "metadata": {},
   "outputs": [],
   "source": [
    "nb = ['NB', 0.61, 0.71, 0.75]\n",
    "model_evaluation.append(nb)"
   ]
  },
  {
   "cell_type": "markdown",
   "id": "dfbf0fc9",
   "metadata": {},
   "source": [
    "<h3> Thuật toán Support Vector Machines"
   ]
  },
  {
   "cell_type": "markdown",
   "id": "d6828a0c",
   "metadata": {},
   "source": [
    "<h4> Chạy mô hình trên tập data_train_ros và data_test"
   ]
  },
  {
   "cell_type": "code",
   "execution_count": 71,
   "id": "57fbbe87",
   "metadata": {},
   "outputs": [
    {
     "name": "stdout",
     "output_type": "stream",
     "text": [
      "              precision    recall  f1-score   support\n",
      "\n",
      "           0       0.89      0.69      0.78      1033\n",
      "           1       0.48      0.78      0.59       374\n",
      "\n",
      "    accuracy                           0.71      1407\n",
      "   macro avg       0.69      0.73      0.68      1407\n",
      "weighted avg       0.78      0.71      0.73      1407\n",
      "\n",
      "AUC: 0.7328118609936274\n"
     ]
    }
   ],
   "source": [
    "# Sử dụng thuật toán SVC và fit tập x_train, y_train vào mô hình\n",
    "svm = SVC(C=1000, gamma=1)\n",
    "svm.fit(x_train_ros, y_train_ros)\n",
    "\n",
    "# Đánh giá mô hình\n",
    "y_pred = svm.predict(x_test)\n",
    "print(classification_report(y_test, y_pred))\n",
    "print('AUC:', roc_auc_score(y_test, y_pred))"
   ]
  },
  {
   "cell_type": "code",
   "execution_count": 72,
   "id": "48470134",
   "metadata": {},
   "outputs": [],
   "source": [
    "# Tạo 3 lists\n",
    "f1_score_svm = []\n",
    "acc_svm = []\n",
    "auc_svm = []\n",
    "\n",
    "# Điền giá trị F1-score, Accuracy, AUC vào lists\n",
    "f1_score_svm.append(round(f1_score(y_test, y_pred), 2))\n",
    "acc_svm.append(round(accuracy_score(y_test, y_pred), 2))\n",
    "auc_svm.append(round(roc_auc_score(y_test, y_pred), 2))"
   ]
  },
  {
   "cell_type": "markdown",
   "id": "ee0ecfe0",
   "metadata": {},
   "source": [
    "<h4> Chạy mô hình trên tập data_train_shrinkage và data_test"
   ]
  },
  {
   "cell_type": "code",
   "execution_count": 74,
   "id": "eb8864b5",
   "metadata": {
    "scrolled": true
   },
   "outputs": [
    {
     "name": "stdout",
     "output_type": "stream",
     "text": [
      "              precision    recall  f1-score   support\n",
      "\n",
      "           0       0.86      0.68      0.76      1033\n",
      "           1       0.45      0.70      0.55       374\n",
      "\n",
      "    accuracy                           0.69      1407\n",
      "   macro avg       0.66      0.69      0.66      1407\n",
      "weighted avg       0.75      0.69      0.71      1407\n",
      "\n",
      "AUC: 0.6938114416760279\n"
     ]
    }
   ],
   "source": [
    "# Sử dụng thuật toán SVC và fit tập x_train, y_train vào mô hình\n",
    "f1_score_svm.append(round(f1_score(y_test, y_pred), 2))\n",
    "acc_svm.append(round(accuracy_score(y_test, y_pred), 2))\n",
    "auc_svm.append(round(roc_auc_score(y_test, y_pred), 2))# Create a SVC object and fit x_train, y_train to model\n",
    "svm = SVC(C=1, gamma=1)\n",
    "svm.fit(x_train_shrinkage, y_train_shrinkage)\n",
    "\n",
    "# Đánh giá mô hình\n",
    "y_pred = svm.predict(x_test)\n",
    "print(classification_report(y_test, y_pred))\n",
    "print('AUC:', roc_auc_score(y_test, y_pred))"
   ]
  },
  {
   "cell_type": "code",
   "execution_count": 75,
   "id": "7e698e06",
   "metadata": {},
   "outputs": [],
   "source": [
    "# Điền giá trị F1-score, Accuracy, AUC vào lists\n",
    "f1_score_svm.append(round(f1_score(y_test, y_pred), 2))\n",
    "acc_svm.append(round(accuracy_score(y_test, y_pred), 2))\n",
    "auc_svm.append(round(roc_auc_score(y_test, y_pred), 2))"
   ]
  },
  {
   "cell_type": "markdown",
   "id": "8c2fefb9",
   "metadata": {},
   "source": [
    "<h4> Chạy mô hình trên tập data_train_smote và data_test"
   ]
  },
  {
   "cell_type": "code",
   "execution_count": 76,
   "id": "ab1732f7",
   "metadata": {},
   "outputs": [
    {
     "name": "stdout",
     "output_type": "stream",
     "text": [
      "              precision    recall  f1-score   support\n",
      "\n",
      "           0       0.90      0.68      0.78      1033\n",
      "           1       0.48      0.80      0.60       374\n",
      "\n",
      "    accuracy                           0.71      1407\n",
      "   macro avg       0.69      0.74      0.69      1407\n",
      "weighted avg       0.79      0.71      0.73      1407\n",
      "\n",
      "AUC: 0.7409717297109814\n"
     ]
    }
   ],
   "source": [
    "# Sử dụng thuật toán SVC và fit tập x_train, y_train vào mô hình\n",
    "svm = SVC(C=1000, gamma=1)\n",
    "svm.fit(x_train_smote, y_train_smote)\n",
    "\n",
    "# Đánh giá mô hình\n",
    "y_pred = svm.predict(x_test)\n",
    "print(classification_report(y_test, y_pred))\n",
    "print('AUC:', roc_auc_score(y_test, y_pred))"
   ]
  },
  {
   "cell_type": "code",
   "execution_count": 77,
   "id": "5674c9c9",
   "metadata": {},
   "outputs": [],
   "source": [
    "# Điền giá trị F1-score, Accuracy, AUC vào lists\n",
    "f1_score_svm.append(round(f1_score(y_test, y_pred), 2))\n",
    "acc_svm.append(round(accuracy_score(y_test, y_pred), 2))\n",
    "auc_svm.append(round(roc_auc_score(y_test, y_pred), 2))"
   ]
  },
  {
   "cell_type": "markdown",
   "id": "df108edf",
   "metadata": {},
   "source": [
    "<h4> Chạy mô hình trên tập data_train_smotetomek và data_test"
   ]
  },
  {
   "cell_type": "code",
   "execution_count": 78,
   "id": "fcf0997f",
   "metadata": {},
   "outputs": [
    {
     "name": "stdout",
     "output_type": "stream",
     "text": [
      "              precision    recall  f1-score   support\n",
      "\n",
      "           0       0.90      0.70      0.79      1033\n",
      "           1       0.49      0.80      0.60       374\n",
      "\n",
      "    accuracy                           0.72      1407\n",
      "   macro avg       0.70      0.75      0.69      1407\n",
      "weighted avg       0.79      0.72      0.74      1407\n",
      "\n",
      "AUC: 0.7459271836869924\n"
     ]
    }
   ],
   "source": [
    "# Sử dụng thuật toán SVC và fit tập x_train, y_train vào mô hình\n",
    "svm = SVC(C=1000, gamma=1)\n",
    "svm.fit(x_train_smotetomek, y_train_smotetomek)\n",
    "\n",
    "# Đánh giá mô hình\n",
    "y_pred = svm.predict(x_test)\n",
    "print(classification_report(y_test, y_pred))\n",
    "print('AUC:', roc_auc_score(y_test, y_pred))"
   ]
  },
  {
   "cell_type": "code",
   "execution_count": 79,
   "id": "ded3b1ae",
   "metadata": {},
   "outputs": [],
   "source": [
    "# Điền giá trị F1-score, Accuracy, AUC vào lists\n",
    "f1_score_svm.append(round(f1_score(y_test, y_pred), 2))\n",
    "acc_svm.append(round(accuracy_score(y_test, y_pred), 2))\n",
    "auc_svm.append(round(roc_auc_score(y_test, y_pred), 2))"
   ]
  },
  {
   "cell_type": "code",
   "execution_count": 80,
   "id": "47af7a2c",
   "metadata": {},
   "outputs": [
    {
     "data": {
      "text/html": [
       "<div>\n",
       "<style scoped>\n",
       "    .dataframe tbody tr th:only-of-type {\n",
       "        vertical-align: middle;\n",
       "    }\n",
       "\n",
       "    .dataframe tbody tr th {\n",
       "        vertical-align: top;\n",
       "    }\n",
       "\n",
       "    .dataframe thead th {\n",
       "        text-align: right;\n",
       "    }\n",
       "</style>\n",
       "<table border=\"1\" class=\"dataframe\">\n",
       "  <thead>\n",
       "    <tr style=\"text-align: right;\">\n",
       "      <th></th>\n",
       "      <th>Training data</th>\n",
       "      <th>F1-score</th>\n",
       "      <th>Accuracy</th>\n",
       "      <th>AUC</th>\n",
       "    </tr>\n",
       "  </thead>\n",
       "  <tbody>\n",
       "    <tr>\n",
       "      <th>0</th>\n",
       "      <td>ros</td>\n",
       "      <td>0.59</td>\n",
       "      <td>0.71</td>\n",
       "      <td>0.73</td>\n",
       "    </tr>\n",
       "    <tr>\n",
       "      <th>1</th>\n",
       "      <td>shrinkage</td>\n",
       "      <td>0.59</td>\n",
       "      <td>0.71</td>\n",
       "      <td>0.73</td>\n",
       "    </tr>\n",
       "    <tr>\n",
       "      <th>2</th>\n",
       "      <td>smote</td>\n",
       "      <td>0.55</td>\n",
       "      <td>0.69</td>\n",
       "      <td>0.69</td>\n",
       "    </tr>\n",
       "    <tr>\n",
       "      <th>3</th>\n",
       "      <td>smotetomek</td>\n",
       "      <td>0.60</td>\n",
       "      <td>0.71</td>\n",
       "      <td>0.74</td>\n",
       "    </tr>\n",
       "  </tbody>\n",
       "</table>\n",
       "</div>"
      ],
      "text/plain": [
       "  Training data  F1-score  Accuracy   AUC\n",
       "0           ros      0.59      0.71  0.73\n",
       "1     shrinkage      0.59      0.71  0.73\n",
       "2         smote      0.55      0.69  0.69\n",
       "3    smotetomek      0.60      0.71  0.74"
      ]
     },
     "execution_count": 80,
     "metadata": {},
     "output_type": "execute_result"
    }
   ],
   "source": [
    "svm_evaluation = pd.DataFrame(list(zip(Training_data, f1_score_svm, acc_svm, auc_svm)), \n",
    "                              columns = ['Training data', 'F1-score', 'Accuracy', 'AUC'])\n",
    "svm_evaluation"
   ]
  },
  {
   "cell_type": "markdown",
   "id": "2db158b6",
   "metadata": {},
   "source": [
    "Dựa vào bảng dữ liệu trên, chúng ta thấy mô hình SVM chạy trên tập data_train_smotetomek đang hiệu quả nhất. "
   ]
  },
  {
   "cell_type": "code",
   "execution_count": 81,
   "id": "2bfbcf06",
   "metadata": {},
   "outputs": [],
   "source": [
    "svm = ['SVM', 0.6, 0.71, 0.74]\n",
    "model_evaluation.append(svm)"
   ]
  },
  {
   "cell_type": "markdown",
   "id": "5bf83d73",
   "metadata": {},
   "source": [
    "<h3> Thuật toán Decision Trees"
   ]
  },
  {
   "cell_type": "markdown",
   "id": "2429d22a",
   "metadata": {},
   "source": [
    "<h4> Chạy mô hình trên tập data_train_ros và data_test"
   ]
  },
  {
   "cell_type": "code",
   "execution_count": 82,
   "id": "f0740aa0",
   "metadata": {},
   "outputs": [
    {
     "name": "stdout",
     "output_type": "stream",
     "text": [
      "              precision    recall  f1-score   support\n",
      "\n",
      "           0       0.90      0.73      0.80      1033\n",
      "           1       0.51      0.77      0.61       374\n",
      "\n",
      "    accuracy                           0.74      1407\n",
      "   macro avg       0.70      0.75      0.71      1407\n",
      "weighted avg       0.79      0.74      0.75      1407\n",
      "\n",
      "AUC: 0.7508360468186217\n"
     ]
    }
   ],
   "source": [
    "# Sử dụng thuật toán DecisionTreeClassifier object và fit tập x_train, y_train vào mô hình\n",
    "clf_gini = DecisionTreeClassifier(criterion='gini', max_depth=3, random_state=999)\n",
    "clf_gini.fit(x_train_ros, y_train_ros)\n",
    "\n",
    "# Đánh giá mô hình\n",
    "y_pred = clf_gini.predict(x_test)\n",
    "print(classification_report(y_test, y_pred))\n",
    "print('AUC:', roc_auc_score(y_test, y_pred))"
   ]
  },
  {
   "cell_type": "code",
   "execution_count": 83,
   "id": "54eb9479",
   "metadata": {},
   "outputs": [],
   "source": [
    "# Tạo 3 lists\n",
    "f1_score_dt = []\n",
    "acc_dt = []\n",
    "auc_dt = []\n",
    "\n",
    "# Điền giá trị F1-score, Accuracy, AUC vào lists\n",
    "f1_score_dt.append(round(f1_score(y_test, y_pred), 2))\n",
    "acc_dt.append(round(accuracy_score(y_test, y_pred), 2))\n",
    "auc_dt.append(round(roc_auc_score(y_test, y_pred), 2))"
   ]
  },
  {
   "cell_type": "markdown",
   "id": "a67cea06",
   "metadata": {},
   "source": [
    "<h4> Chạy mô hình trên tập data_train_shrinkage và data_test"
   ]
  },
  {
   "cell_type": "code",
   "execution_count": 84,
   "id": "6bc5221b",
   "metadata": {},
   "outputs": [
    {
     "name": "stdout",
     "output_type": "stream",
     "text": [
      "              precision    recall  f1-score   support\n",
      "\n",
      "           0       0.84      0.76      0.80      1033\n",
      "           1       0.48      0.61      0.53       374\n",
      "\n",
      "    accuracy                           0.72      1407\n",
      "   macro avg       0.66      0.68      0.67      1407\n",
      "weighted avg       0.75      0.72      0.73      1407\n",
      "\n",
      "AUC: 0.6833220307396037\n"
     ]
    }
   ],
   "source": [
    "# Sử dụng thuật toán DecisionTreeClassifier object và fit tập x_train, y_train vào mô hình\n",
    "clf_gini = DecisionTreeClassifier(criterion='gini', max_depth=3, random_state=999)\n",
    "clf_gini.fit(x_train_shrinkage, y_train_shrinkage)\n",
    "\n",
    "# Đánh giá mô hình\n",
    "y_pred = clf_gini.predict(x_test)\n",
    "print(classification_report(y_test, y_pred))\n",
    "print('AUC:', roc_auc_score(y_test, y_pred))"
   ]
  },
  {
   "cell_type": "code",
   "execution_count": 85,
   "id": "ea36c54b",
   "metadata": {},
   "outputs": [],
   "source": [
    "# Điền giá trị F1-score, Accuracy, AUC vào lists\n",
    "f1_score_dt.append(round(f1_score(y_test, y_pred), 2))\n",
    "acc_dt.append(round(accuracy_score(y_test, y_pred), 2))\n",
    "auc_dt.append(round(roc_auc_score(y_test, y_pred), 2))"
   ]
  },
  {
   "cell_type": "markdown",
   "id": "d561c39f",
   "metadata": {},
   "source": [
    "<h4> Chạy mô hình trên tập data_train_smote và data_test"
   ]
  },
  {
   "cell_type": "code",
   "execution_count": 86,
   "id": "6c8f84ae",
   "metadata": {},
   "outputs": [
    {
     "name": "stdout",
     "output_type": "stream",
     "text": [
      "              precision    recall  f1-score   support\n",
      "\n",
      "           0       0.90      0.73      0.80      1033\n",
      "           1       0.51      0.77      0.61       374\n",
      "\n",
      "    accuracy                           0.74      1407\n",
      "   macro avg       0.70      0.75      0.71      1407\n",
      "weighted avg       0.79      0.74      0.75      1407\n",
      "\n",
      "AUC: 0.7508360468186217\n"
     ]
    }
   ],
   "source": [
    "# Sử dụng thuật toán DecisionTreeClassifier object và fit tập x_train, y_train vào mô hình\n",
    "clf_gini = DecisionTreeClassifier(criterion='gini', max_depth=3, random_state=999)\n",
    "clf_gini.fit(x_train_smote, y_train_smote)\n",
    "\n",
    "# Đánh giá mô hình\n",
    "y_pred = clf_gini.predict(x_test)\n",
    "print(classification_report(y_test, y_pred))\n",
    "print('AUC:', roc_auc_score(y_test, y_pred))"
   ]
  },
  {
   "cell_type": "code",
   "execution_count": 87,
   "id": "de8fcde7",
   "metadata": {},
   "outputs": [],
   "source": [
    "# Điền giá trị F1-score, Accuracy, AUC vào lists\n",
    "f1_score_dt.append(round(f1_score(y_test, y_pred), 2))\n",
    "acc_dt.append(round(accuracy_score(y_test, y_pred), 2))\n",
    "auc_dt.append(round(roc_auc_score(y_test, y_pred), 2))"
   ]
  },
  {
   "cell_type": "markdown",
   "id": "7a14b11e",
   "metadata": {},
   "source": [
    "<h4> Chạy mô hình trên tập data_train_smotetomek và data_test"
   ]
  },
  {
   "cell_type": "code",
   "execution_count": 88,
   "id": "3863783e",
   "metadata": {},
   "outputs": [
    {
     "name": "stdout",
     "output_type": "stream",
     "text": [
      "              precision    recall  f1-score   support\n",
      "\n",
      "           0       0.90      0.73      0.80      1033\n",
      "           1       0.51      0.77      0.61       374\n",
      "\n",
      "    accuracy                           0.74      1407\n",
      "   macro avg       0.70      0.75      0.71      1407\n",
      "weighted avg       0.79      0.74      0.75      1407\n",
      "\n",
      "AUC: 0.7508360468186217\n"
     ]
    }
   ],
   "source": [
    "# Sử dụng thuật toán DecisionTreeClassifier object và fit tập x_train, y_train vào mô hình\n",
    "clf_gini = DecisionTreeClassifier(criterion='gini', max_depth=3, random_state=999)\n",
    "clf_gini.fit(x_train_smotetomek, y_train_smotetomek)\n",
    "\n",
    "# Đánh giá mô hình\n",
    "y_pred = clf_gini.predict(x_test)\n",
    "print(classification_report(y_test, y_pred))\n",
    "print('AUC:', roc_auc_score(y_test, y_pred))"
   ]
  },
  {
   "cell_type": "code",
   "execution_count": 89,
   "id": "ddec46d7",
   "metadata": {},
   "outputs": [],
   "source": [
    "# Điền giá trị F1-score, Accuracy, AUC vào lists\n",
    "f1_score_dt.append(round(f1_score(y_test, y_pred), 2))\n",
    "acc_dt.append(round(accuracy_score(y_test, y_pred), 2))\n",
    "auc_dt.append(round(roc_auc_score(y_test, y_pred), 2))"
   ]
  },
  {
   "cell_type": "code",
   "execution_count": 90,
   "id": "4b26ea73",
   "metadata": {},
   "outputs": [
    {
     "data": {
      "text/html": [
       "<div>\n",
       "<style scoped>\n",
       "    .dataframe tbody tr th:only-of-type {\n",
       "        vertical-align: middle;\n",
       "    }\n",
       "\n",
       "    .dataframe tbody tr th {\n",
       "        vertical-align: top;\n",
       "    }\n",
       "\n",
       "    .dataframe thead th {\n",
       "        text-align: right;\n",
       "    }\n",
       "</style>\n",
       "<table border=\"1\" class=\"dataframe\">\n",
       "  <thead>\n",
       "    <tr style=\"text-align: right;\">\n",
       "      <th></th>\n",
       "      <th>Training data</th>\n",
       "      <th>F1-score</th>\n",
       "      <th>Accuracy</th>\n",
       "      <th>AUC</th>\n",
       "    </tr>\n",
       "  </thead>\n",
       "  <tbody>\n",
       "    <tr>\n",
       "      <th>0</th>\n",
       "      <td>ros</td>\n",
       "      <td>0.61</td>\n",
       "      <td>0.74</td>\n",
       "      <td>0.75</td>\n",
       "    </tr>\n",
       "    <tr>\n",
       "      <th>1</th>\n",
       "      <td>shrinkage</td>\n",
       "      <td>0.53</td>\n",
       "      <td>0.72</td>\n",
       "      <td>0.68</td>\n",
       "    </tr>\n",
       "    <tr>\n",
       "      <th>2</th>\n",
       "      <td>smote</td>\n",
       "      <td>0.61</td>\n",
       "      <td>0.74</td>\n",
       "      <td>0.75</td>\n",
       "    </tr>\n",
       "    <tr>\n",
       "      <th>3</th>\n",
       "      <td>smotetomek</td>\n",
       "      <td>0.61</td>\n",
       "      <td>0.74</td>\n",
       "      <td>0.75</td>\n",
       "    </tr>\n",
       "  </tbody>\n",
       "</table>\n",
       "</div>"
      ],
      "text/plain": [
       "  Training data  F1-score  Accuracy   AUC\n",
       "0           ros      0.61      0.74  0.75\n",
       "1     shrinkage      0.53      0.72  0.68\n",
       "2         smote      0.61      0.74  0.75\n",
       "3    smotetomek      0.61      0.74  0.75"
      ]
     },
     "execution_count": 90,
     "metadata": {},
     "output_type": "execute_result"
    }
   ],
   "source": [
    "dt_evaluation = pd.DataFrame(list(zip(Training_data, f1_score_dt, acc_dt, auc_dt)), \n",
    "                              columns = ['Training data', 'F1-score', 'Accuracy', 'AUC'])\n",
    "dt_evaluation"
   ]
  },
  {
   "cell_type": "markdown",
   "id": "33c39ed6",
   "metadata": {},
   "source": [
    "Dựa vào bảng dữ liệu trên, chúng ta thấy mô hình DT chạy trên tập data_train_smotetomek, data_train_smote, data_train_ros đều đang có các chỉ số tốt nhất. "
   ]
  },
  {
   "cell_type": "code",
   "execution_count": 91,
   "id": "a51471c0",
   "metadata": {},
   "outputs": [],
   "source": [
    "dt = ['DT', 0.61, 0.74, 0.75]\n",
    "model_evaluation.append(dt)\n",
    "model_evaluation = pd.DataFrame(model_evaluation, columns = ['Model', 'F1-score', 'Accuracy', 'AUC'])"
   ]
  },
  {
   "cell_type": "code",
   "execution_count": 92,
   "id": "1624727b",
   "metadata": {},
   "outputs": [
    {
     "data": {
      "text/html": [
       "<div>\n",
       "<style scoped>\n",
       "    .dataframe tbody tr th:only-of-type {\n",
       "        vertical-align: middle;\n",
       "    }\n",
       "\n",
       "    .dataframe tbody tr th {\n",
       "        vertical-align: top;\n",
       "    }\n",
       "\n",
       "    .dataframe thead th {\n",
       "        text-align: right;\n",
       "    }\n",
       "</style>\n",
       "<table border=\"1\" class=\"dataframe\">\n",
       "  <thead>\n",
       "    <tr style=\"text-align: right;\">\n",
       "      <th></th>\n",
       "      <th>Model</th>\n",
       "      <th>F1-score</th>\n",
       "      <th>Accuracy</th>\n",
       "      <th>AUC</th>\n",
       "    </tr>\n",
       "  </thead>\n",
       "  <tbody>\n",
       "    <tr>\n",
       "      <th>0</th>\n",
       "      <td>kNN</td>\n",
       "      <td>0.61</td>\n",
       "      <td>0.73</td>\n",
       "      <td>0.75</td>\n",
       "    </tr>\n",
       "    <tr>\n",
       "      <th>1</th>\n",
       "      <td>LR</td>\n",
       "      <td>0.63</td>\n",
       "      <td>0.75</td>\n",
       "      <td>0.76</td>\n",
       "    </tr>\n",
       "    <tr>\n",
       "      <th>2</th>\n",
       "      <td>NB</td>\n",
       "      <td>0.61</td>\n",
       "      <td>0.71</td>\n",
       "      <td>0.75</td>\n",
       "    </tr>\n",
       "    <tr>\n",
       "      <th>3</th>\n",
       "      <td>SVM</td>\n",
       "      <td>0.60</td>\n",
       "      <td>0.71</td>\n",
       "      <td>0.74</td>\n",
       "    </tr>\n",
       "    <tr>\n",
       "      <th>4</th>\n",
       "      <td>DT</td>\n",
       "      <td>0.61</td>\n",
       "      <td>0.74</td>\n",
       "      <td>0.75</td>\n",
       "    </tr>\n",
       "  </tbody>\n",
       "</table>\n",
       "</div>"
      ],
      "text/plain": [
       "  Model  F1-score  Accuracy   AUC\n",
       "0   kNN      0.61      0.73  0.75\n",
       "1    LR      0.63      0.75  0.76\n",
       "2    NB      0.61      0.71  0.75\n",
       "3   SVM      0.60      0.71  0.74\n",
       "4    DT      0.61      0.74  0.75"
      ]
     },
     "execution_count": 92,
     "metadata": {},
     "output_type": "execute_result"
    }
   ],
   "source": [
    "model_evaluation"
   ]
  },
  {
   "cell_type": "markdown",
   "id": "c78d13e5",
   "metadata": {},
   "source": [
    "Sau khi so sánh 5 model đã xây dựng, chúng tôi thấy Logistic Regression là mô hình hiệu quả nhất. Do đó, chúng tôi đã lựa chọn Logistic Regression để làm mô hình dự báo Churn Customer."
   ]
  },
  {
   "cell_type": "code",
   "execution_count": null,
   "id": "c4fab566",
   "metadata": {},
   "outputs": [],
   "source": []
  }
 ],
 "metadata": {
  "kernelspec": {
   "display_name": "Python 3",
   "language": "python",
   "name": "python3"
  },
  "language_info": {
   "codemirror_mode": {
    "name": "ipython",
    "version": 3
   },
   "file_extension": ".py",
   "mimetype": "text/x-python",
   "name": "python",
   "nbconvert_exporter": "python",
   "pygments_lexer": "ipython3",
   "version": "3.8.8"
  }
 },
 "nbformat": 4,
 "nbformat_minor": 5
}
